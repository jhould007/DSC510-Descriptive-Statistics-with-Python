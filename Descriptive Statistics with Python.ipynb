{
 "cells": [
  {
   "cell_type": "markdown",
   "id": "10ebf1f9",
   "metadata": {},
   "source": [
    "# Descriptive Statistics with Python\n",
    "\n",
    "### By Josh Houlding"
   ]
  },
  {
   "cell_type": "markdown",
   "id": "a407d356",
   "metadata": {},
   "source": [
    "# Task 1: Outlier Identification and Handling\n",
    "In this task, you will work with a real-world dataset to identify and handle outliers. Choose a dataset (e.g., from Kaggle, UCI Machine Learning Repository) from the list of \"Repositories for Finding Suitable Datasets,\" located in Class Resources, that exhibits outliers or extreme values. Write a Python script that identifies and handles the outliers using at least two methods (e.g., z-score, interquartile range). Use visualization techniques to demonstrate the impact of the outliers on measures of central tendency and variability."
   ]
  },
  {
   "cell_type": "markdown",
   "id": "f692fd54",
   "metadata": {},
   "source": [
    "<b>Dataset used:</b> https://www.kaggle.com/datasets/anshikakashyap12/fruits-and-vegetables-prices-in-usa\n",
    "\n",
    "\"Fruits-Vegetables Prices In USA In The Year 2020\""
   ]
  },
  {
   "cell_type": "code",
   "execution_count": 180,
   "id": "829fc4a9",
   "metadata": {},
   "outputs": [],
   "source": [
    "# Import necessary libraries\n",
    "import pandas as pd\n",
    "import numpy as np\n",
    "import seaborn as sns\n",
    "from scipy.stats import zscore"
   ]
  },
  {
   "cell_type": "code",
   "execution_count": 181,
   "id": "a79118d2",
   "metadata": {},
   "outputs": [
    {
     "data": {
      "text/html": [
       "<div>\n",
       "<style scoped>\n",
       "    .dataframe tbody tr th:only-of-type {\n",
       "        vertical-align: middle;\n",
       "    }\n",
       "\n",
       "    .dataframe tbody tr th {\n",
       "        vertical-align: top;\n",
       "    }\n",
       "\n",
       "    .dataframe thead th {\n",
       "        text-align: right;\n",
       "    }\n",
       "</style>\n",
       "<table border=\"1\" class=\"dataframe\">\n",
       "  <thead>\n",
       "    <tr style=\"text-align: right;\">\n",
       "      <th></th>\n",
       "      <th>Fruit</th>\n",
       "      <th>Form</th>\n",
       "      <th>RetailPrice</th>\n",
       "      <th>RetailPriceUnit</th>\n",
       "      <th>Yield</th>\n",
       "      <th>CupEquivalentSize</th>\n",
       "      <th>CupEquivalentUnit</th>\n",
       "      <th>CupEquivalentPrice</th>\n",
       "    </tr>\n",
       "  </thead>\n",
       "  <tbody>\n",
       "    <tr>\n",
       "      <th>0</th>\n",
       "      <td>Apples</td>\n",
       "      <td>Fresh</td>\n",
       "      <td>1.5193</td>\n",
       "      <td>per pound</td>\n",
       "      <td>0.9</td>\n",
       "      <td>0.2425</td>\n",
       "      <td>pounds</td>\n",
       "      <td>0.4094</td>\n",
       "    </tr>\n",
       "    <tr>\n",
       "      <th>1</th>\n",
       "      <td>Apples, applesauce</td>\n",
       "      <td>Canned</td>\n",
       "      <td>1.0660</td>\n",
       "      <td>per pound</td>\n",
       "      <td>1.0</td>\n",
       "      <td>0.5401</td>\n",
       "      <td>pounds</td>\n",
       "      <td>0.5758</td>\n",
       "    </tr>\n",
       "    <tr>\n",
       "      <th>2</th>\n",
       "      <td>Apples, ready-to-drink</td>\n",
       "      <td>Juice</td>\n",
       "      <td>0.7804</td>\n",
       "      <td>per pint</td>\n",
       "      <td>1.0</td>\n",
       "      <td>8.0000</td>\n",
       "      <td>fluid ounces</td>\n",
       "      <td>0.3902</td>\n",
       "    </tr>\n",
       "  </tbody>\n",
       "</table>\n",
       "</div>"
      ],
      "text/plain": [
       "                    Fruit    Form  RetailPrice RetailPriceUnit  Yield  \\\n",
       "0                  Apples   Fresh       1.5193       per pound    0.9   \n",
       "1      Apples, applesauce  Canned       1.0660       per pound    1.0   \n",
       "2  Apples, ready-to-drink   Juice       0.7804        per pint    1.0   \n",
       "\n",
       "   CupEquivalentSize CupEquivalentUnit  CupEquivalentPrice  \n",
       "0             0.2425            pounds              0.4094  \n",
       "1             0.5401            pounds              0.5758  \n",
       "2             8.0000      fluid ounces              0.3902  "
      ]
     },
     "execution_count": 181,
     "metadata": {},
     "output_type": "execute_result"
    }
   ],
   "source": [
    "# Import dataset and view structure\n",
    "fruit_prices = pd.read_csv(\"Fruit Prices 2020.csv\")\n",
    "fruit_prices.head(3)"
   ]
  },
  {
   "cell_type": "markdown",
   "id": "4bd1ad2e",
   "metadata": {},
   "source": [
    "### Finding outliers using the interquartile range"
   ]
  },
  {
   "cell_type": "code",
   "execution_count": 182,
   "id": "cf4b95e6",
   "metadata": {},
   "outputs": [
    {
     "data": {
      "text/plain": [
       "<Axes: xlabel='RetailPrice'>"
      ]
     },
     "execution_count": 182,
     "metadata": {},
     "output_type": "execute_result"
    },
    {
     "data": {
      "image/png": "[encoded data removed]",
      "text/plain": [
       "<Figure size 640x480 with 1 Axes>"
      ]
     },
     "metadata": {},
     "output_type": "display_data"
    }
   ],
   "source": [
    "# Generate a boxplot to find outliers\n",
    "sns.boxplot(x=\"RetailPrice\", data=fruit_prices)"
   ]
  },
  {
   "cell_type": "markdown",
   "id": "b21d5dec",
   "metadata": {},
   "source": [
    "Looking at the boxplot of retail prices for fruits, there is 1 outlier on the high end. Let's find this outlier and determine what to do with it. "
   ]
  },
  {
   "cell_type": "code",
   "execution_count": 183,
   "id": "655c6163",
   "metadata": {},
   "outputs": [
    {
     "data": {
      "text/html": [
       "<div>\n",
       "<style scoped>\n",
       "    .dataframe tbody tr th:only-of-type {\n",
       "        vertical-align: middle;\n",
       "    }\n",
       "\n",
       "    .dataframe tbody tr th {\n",
       "        vertical-align: top;\n",
       "    }\n",
       "\n",
       "    .dataframe thead th {\n",
       "        text-align: right;\n",
       "    }\n",
       "</style>\n",
       "<table border=\"1\" class=\"dataframe\">\n",
       "  <thead>\n",
       "    <tr style=\"text-align: right;\">\n",
       "      <th></th>\n",
       "      <th>Fruit</th>\n",
       "      <th>Form</th>\n",
       "      <th>RetailPrice</th>\n",
       "      <th>RetailPriceUnit</th>\n",
       "      <th>Yield</th>\n",
       "      <th>CupEquivalentSize</th>\n",
       "      <th>CupEquivalentUnit</th>\n",
       "      <th>CupEquivalentPrice</th>\n",
       "    </tr>\n",
       "  </thead>\n",
       "  <tbody>\n",
       "    <tr>\n",
       "      <th>32</th>\n",
       "      <td>Mangoes</td>\n",
       "      <td>Dried</td>\n",
       "      <td>10.5527</td>\n",
       "      <td>per pound</td>\n",
       "      <td>1.0</td>\n",
       "      <td>0.1253</td>\n",
       "      <td>pounds</td>\n",
       "      <td>1.3219</td>\n",
       "    </tr>\n",
       "  </tbody>\n",
       "</table>\n",
       "</div>"
      ],
      "text/plain": [
       "      Fruit   Form  RetailPrice RetailPriceUnit  Yield  CupEquivalentSize  \\\n",
       "32  Mangoes  Dried      10.5527       per pound    1.0             0.1253   \n",
       "\n",
       "   CupEquivalentUnit  CupEquivalentPrice  \n",
       "32            pounds              1.3219  "
      ]
     },
     "execution_count": 183,
     "metadata": {},
     "output_type": "execute_result"
    }
   ],
   "source": [
    "# Find the IQR\n",
    "Q1 = fruit_prices[\"RetailPrice\"].quantile(0.25)\n",
    "Q3 = fruit_prices[\"RetailPrice\"].quantile(0.75) \n",
    "IQR = Q3 - Q1\n",
    "\n",
    "# Calculate lower and upper bounds\n",
    "lower_bound = Q1 - 1.5 * IQR\n",
    "upper_bound = Q3 + 1.5 * IQR\n",
    "\n",
    "# Find the outliers\n",
    "fruit_outliers = fruit_prices[(fruit_prices[\"RetailPrice\"] < lower_bound) | (fruit_prices[\"RetailPrice\"] > upper_bound)]\n",
    "fruit_outliers"
   ]
  },
  {
   "cell_type": "markdown",
   "id": "408f3613",
   "metadata": {},
   "source": [
    "We have found that dried mangoes are the outlier in our dataset. "
   ]
  },
  {
   "cell_type": "markdown",
   "id": "9ddd39fa",
   "metadata": {},
   "source": [
    "### Finding outliers using the Z-score"
   ]
  },
  {
   "cell_type": "code",
   "execution_count": 184,
   "id": "3827c8b1",
   "metadata": {},
   "outputs": [
    {
     "data": {
      "text/html": [
       "<div>\n",
       "<style scoped>\n",
       "    .dataframe tbody tr th:only-of-type {\n",
       "        vertical-align: middle;\n",
       "    }\n",
       "\n",
       "    .dataframe tbody tr th {\n",
       "        vertical-align: top;\n",
       "    }\n",
       "\n",
       "    .dataframe thead th {\n",
       "        text-align: right;\n",
       "    }\n",
       "</style>\n",
       "<table border=\"1\" class=\"dataframe\">\n",
       "  <thead>\n",
       "    <tr style=\"text-align: right;\">\n",
       "      <th></th>\n",
       "      <th>Fruit</th>\n",
       "      <th>Form</th>\n",
       "      <th>RetailPrice</th>\n",
       "      <th>RetailPriceUnit</th>\n",
       "      <th>Yield</th>\n",
       "      <th>CupEquivalentSize</th>\n",
       "      <th>CupEquivalentUnit</th>\n",
       "      <th>CupEquivalentPrice</th>\n",
       "      <th>Z-Score</th>\n",
       "    </tr>\n",
       "  </thead>\n",
       "  <tbody>\n",
       "    <tr>\n",
       "      <th>32</th>\n",
       "      <td>Mangoes</td>\n",
       "      <td>Dried</td>\n",
       "      <td>10.5527</td>\n",
       "      <td>per pound</td>\n",
       "      <td>1.0</td>\n",
       "      <td>0.1253</td>\n",
       "      <td>pounds</td>\n",
       "      <td>1.3219</td>\n",
       "      <td>3.868927</td>\n",
       "    </tr>\n",
       "  </tbody>\n",
       "</table>\n",
       "</div>"
      ],
      "text/plain": [
       "      Fruit   Form  RetailPrice RetailPriceUnit  Yield  CupEquivalentSize  \\\n",
       "32  Mangoes  Dried      10.5527       per pound    1.0             0.1253   \n",
       "\n",
       "   CupEquivalentUnit  CupEquivalentPrice   Z-Score  \n",
       "32            pounds              1.3219  3.868927  "
      ]
     },
     "execution_count": 184,
     "metadata": {},
     "output_type": "execute_result"
    }
   ],
   "source": [
    "# Find the Z-score for \"RetailPrice\" column\n",
    "fruit_prices[\"Z-Score\"] = zscore(fruit_prices[\"RetailPrice\"])\n",
    "\n",
    "# Using a Z-score threshold of 3 to find extreme outliers\n",
    "threshold = 3\n",
    "\n",
    "# Any value with a Z-score above threshold or below -threshold is an outlier\n",
    "fruit_outliers = fruit_prices[(fruit_prices[\"Z-Score\"] > threshold) | (fruit_prices[\"Z-Score\"] < -threshold)]\n",
    "fruit_outliers"
   ]
  },
  {
   "cell_type": "markdown",
   "id": "32891e5d",
   "metadata": {},
   "source": [
    "Unsurprisingly, dried mangoes show up again in our set of outliers, with a very high Z-Score of ~3.87. "
   ]
  },
  {
   "cell_type": "markdown",
   "id": "b2cf9194",
   "metadata": {},
   "source": [
    "### Showing how dried mangoes affect measures of central tendency and variability"
   ]
  },
  {
   "cell_type": "code",
   "execution_count": 185,
   "id": "8df2a6fd",
   "metadata": {},
   "outputs": [
    {
     "data": {
      "text/plain": [
       "count    62.000000\n",
       "mean      2.616050\n",
       "std       2.068129\n",
       "min       0.360400\n",
       "25%       1.155850\n",
       "50%       1.868400\n",
       "75%       3.525600\n",
       "max      10.552700\n",
       "Name: RetailPrice, dtype: float64"
      ]
     },
     "execution_count": 185,
     "metadata": {},
     "output_type": "execute_result"
    }
   ],
   "source": [
    "# Describe the dataset with dried mangoes included\n",
    "fruit_prices[\"RetailPrice\"].describe()"
   ]
  },
  {
   "cell_type": "code",
   "execution_count": 186,
   "id": "11ed423e",
   "metadata": {
    "scrolled": true
   },
   "outputs": [
    {
     "data": {
      "text/plain": [
       "count    52.000000\n",
       "mean      2.022504\n",
       "std       1.366329\n",
       "min       0.360400\n",
       "25%       1.038325\n",
       "50%       1.703600\n",
       "75%       2.639725\n",
       "max       6.639100\n",
       "Name: RetailPrice, dtype: float64"
      ]
     },
     "execution_count": 186,
     "metadata": {},
     "output_type": "execute_result"
    }
   ],
   "source": [
    "# Describe the dataset without dried mangoes\n",
    "fruit_prices_without_dried_mango = fruit_prices[(fruit_prices[\"Fruit\"] != \"Mangoes\") & (fruit_prices[\"Form\"] != \"Dried\")]\n",
    "fruit_prices_without_dried_mango[\"RetailPrice\"].describe()"
   ]
  },
  {
   "cell_type": "markdown",
   "id": "f66628f8",
   "metadata": {},
   "source": [
    "Without dried mangoes included, the mean drops by ~22.6%, the standard deviation drops by ~33.8%, and the first, second and third quantiles all change. Additionally, the max drops since dried mangoes were so much more expensive per pound than other types of fruit. "
   ]
  },
  {
   "cell_type": "code",
   "execution_count": 187,
   "id": "9c673b25",
   "metadata": {},
   "outputs": [
    {
     "data": {
      "text/plain": [
       "<Axes: xlabel='RetailPrice'>"
      ]
     },
     "execution_count": 187,
     "metadata": {},
     "output_type": "execute_result"
    },
    {
     "data": {
      "image/png": "[encoded data removed]",
      "text/plain": [
       "<Figure size 640x480 with 1 Axes>"
      ]
     },
     "metadata": {},
     "output_type": "display_data"
    }
   ],
   "source": [
    "# Show new boxplot without dried mangoes\n",
    "sns.boxplot(x=\"RetailPrice\", data=fruit_prices_without_dried_mango)"
   ]
  },
  {
   "cell_type": "markdown",
   "id": "02135e72",
   "metadata": {},
   "source": [
    "Removing dried mangoes changed the entire boxplot, which led to a new IQR being calculated, and thus new outliers are present relative to this new boxplot. "
   ]
  },
  {
   "cell_type": "markdown",
   "id": "31a40dad",
   "metadata": {},
   "source": [
    "# Task 2: Bias and Confounding Variables Identification\n",
    "Identify potential sources of bias or confounding variables in the dataset selected in Task 1 above and discuss how they might impact the analysis."
   ]
  },
  {
   "cell_type": "code",
   "execution_count": 188,
   "id": "9798e87a",
   "metadata": {},
   "outputs": [
    {
     "data": {
      "text/html": [
       "<div>\n",
       "<style scoped>\n",
       "    .dataframe tbody tr th:only-of-type {\n",
       "        vertical-align: middle;\n",
       "    }\n",
       "\n",
       "    .dataframe tbody tr th {\n",
       "        vertical-align: top;\n",
       "    }\n",
       "\n",
       "    .dataframe thead th {\n",
       "        text-align: right;\n",
       "    }\n",
       "</style>\n",
       "<table border=\"1\" class=\"dataframe\">\n",
       "  <thead>\n",
       "    <tr style=\"text-align: right;\">\n",
       "      <th></th>\n",
       "      <th>Fruit</th>\n",
       "      <th>Form</th>\n",
       "      <th>RetailPrice</th>\n",
       "      <th>RetailPriceUnit</th>\n",
       "      <th>Yield</th>\n",
       "      <th>CupEquivalentSize</th>\n",
       "      <th>CupEquivalentUnit</th>\n",
       "      <th>CupEquivalentPrice</th>\n",
       "      <th>Z-Score</th>\n",
       "    </tr>\n",
       "  </thead>\n",
       "  <tbody>\n",
       "    <tr>\n",
       "      <th>0</th>\n",
       "      <td>Apples</td>\n",
       "      <td>Fresh</td>\n",
       "      <td>1.5193</td>\n",
       "      <td>per pound</td>\n",
       "      <td>0.90</td>\n",
       "      <td>0.2425</td>\n",
       "      <td>pounds</td>\n",
       "      <td>0.4094</td>\n",
       "      <td>-0.534639</td>\n",
       "    </tr>\n",
       "    <tr>\n",
       "      <th>1</th>\n",
       "      <td>Apples, applesauce</td>\n",
       "      <td>Canned</td>\n",
       "      <td>1.0660</td>\n",
       "      <td>per pound</td>\n",
       "      <td>1.00</td>\n",
       "      <td>0.5401</td>\n",
       "      <td>pounds</td>\n",
       "      <td>0.5758</td>\n",
       "      <td>-0.755612</td>\n",
       "    </tr>\n",
       "    <tr>\n",
       "      <th>2</th>\n",
       "      <td>Apples, ready-to-drink</td>\n",
       "      <td>Juice</td>\n",
       "      <td>0.7804</td>\n",
       "      <td>per pint</td>\n",
       "      <td>1.00</td>\n",
       "      <td>8.0000</td>\n",
       "      <td>fluid ounces</td>\n",
       "      <td>0.3902</td>\n",
       "      <td>-0.894835</td>\n",
       "    </tr>\n",
       "    <tr>\n",
       "      <th>3</th>\n",
       "      <td>Apples, frozen concentrate</td>\n",
       "      <td>Juice</td>\n",
       "      <td>0.5853</td>\n",
       "      <td>per pint</td>\n",
       "      <td>1.00</td>\n",
       "      <td>8.0000</td>\n",
       "      <td>fluid ounces</td>\n",
       "      <td>0.2926</td>\n",
       "      <td>-0.989942</td>\n",
       "    </tr>\n",
       "    <tr>\n",
       "      <th>4</th>\n",
       "      <td>Apricots</td>\n",
       "      <td>Fresh</td>\n",
       "      <td>2.9665</td>\n",
       "      <td>per pound</td>\n",
       "      <td>0.93</td>\n",
       "      <td>0.3638</td>\n",
       "      <td>pounds</td>\n",
       "      <td>1.1603</td>\n",
       "      <td>0.170836</td>\n",
       "    </tr>\n",
       "  </tbody>\n",
       "</table>\n",
       "</div>"
      ],
      "text/plain": [
       "                        Fruit    Form  RetailPrice RetailPriceUnit  Yield  \\\n",
       "0                      Apples   Fresh       1.5193       per pound   0.90   \n",
       "1          Apples, applesauce  Canned       1.0660       per pound   1.00   \n",
       "2      Apples, ready-to-drink   Juice       0.7804        per pint   1.00   \n",
       "3  Apples, frozen concentrate   Juice       0.5853        per pint   1.00   \n",
       "4                    Apricots   Fresh       2.9665       per pound   0.93   \n",
       "\n",
       "   CupEquivalentSize CupEquivalentUnit  CupEquivalentPrice   Z-Score  \n",
       "0             0.2425            pounds              0.4094 -0.534639  \n",
       "1             0.5401            pounds              0.5758 -0.755612  \n",
       "2             8.0000      fluid ounces              0.3902 -0.894835  \n",
       "3             8.0000      fluid ounces              0.2926 -0.989942  \n",
       "4             0.3638            pounds              1.1603  0.170836  "
      ]
     },
     "execution_count": 188,
     "metadata": {},
     "output_type": "execute_result"
    }
   ],
   "source": [
    "fruit_prices.head()"
   ]
  },
  {
   "cell_type": "code",
   "execution_count": 189,
   "id": "a861f3b8",
   "metadata": {},
   "outputs": [
    {
     "data": {
      "text/plain": [
       "Form\n",
       "Fresh     24\n",
       "Canned    12\n",
       "Juice     11\n",
       "Dried      9\n",
       "Frozen     6\n",
       "Name: count, dtype: int64"
      ]
     },
     "execution_count": 189,
     "metadata": {},
     "output_type": "execute_result"
    }
   ],
   "source": [
    "fruit_prices[\"Form\"].value_counts()"
   ]
  },
  {
   "cell_type": "markdown",
   "id": "ac8d6740",
   "metadata": {},
   "source": [
    "<b>Potential sources of bias</b>\n",
    "* Pre-cut fruit is usually several dollars more expensive per pound than fresh fruits, which could give the impression that the cup equivalent price of pre-cut fruit is higher than that of fresh fruits, even if this is not accurate. \n",
    "* The price of fruit could be affected by the cup equivalent size. Typically, fruits with a large cup equivalent size will be more expensive than those will smaller cup equivalent sizes, leading to bias toward the conclusion that fruits with a larger cup equivalent size are more expensive. \n",
    "* Different types of fruit vary in price, making it difficult to determine the true relationship between retail price and the cup equivalent price. \n",
    "\n",
    "<b>Source:</b> https://www.myrecipes.com/extracrispy/should-you-buy-fruit-pre-cut-or-whole"
   ]
  },
  {
   "cell_type": "markdown",
   "id": "788a98a9",
   "metadata": {},
   "source": [
    "# Task 3: Handling Missing Data\n",
    "Develop and justify an appropriate statistical method to handle missing data in the dataset selected in Task 1."
   ]
  },
  {
   "cell_type": "code",
   "execution_count": 190,
   "id": "369b6868",
   "metadata": {},
   "outputs": [
    {
     "data": {
      "text/html": [
       "<div>\n",
       "<style scoped>\n",
       "    .dataframe tbody tr th:only-of-type {\n",
       "        vertical-align: middle;\n",
       "    }\n",
       "\n",
       "    .dataframe tbody tr th {\n",
       "        vertical-align: top;\n",
       "    }\n",
       "\n",
       "    .dataframe thead th {\n",
       "        text-align: right;\n",
       "    }\n",
       "</style>\n",
       "<table border=\"1\" class=\"dataframe\">\n",
       "  <thead>\n",
       "    <tr style=\"text-align: right;\">\n",
       "      <th></th>\n",
       "      <th>Fruit</th>\n",
       "      <th>Form</th>\n",
       "      <th>RetailPrice</th>\n",
       "      <th>RetailPriceUnit</th>\n",
       "      <th>Yield</th>\n",
       "      <th>CupEquivalentSize</th>\n",
       "      <th>CupEquivalentUnit</th>\n",
       "      <th>CupEquivalentPrice</th>\n",
       "      <th>Z-Score</th>\n",
       "    </tr>\n",
       "  </thead>\n",
       "  <tbody>\n",
       "  </tbody>\n",
       "</table>\n",
       "</div>"
      ],
      "text/plain": [
       "Empty DataFrame\n",
       "Columns: [Fruit, Form, RetailPrice, RetailPriceUnit, Yield, CupEquivalentSize, CupEquivalentUnit, CupEquivalentPrice, Z-Score]\n",
       "Index: []"
      ]
     },
     "execution_count": 190,
     "metadata": {},
     "output_type": "execute_result"
    }
   ],
   "source": [
    "# Find any rows with missing data\n",
    "fruit_prices[fruit_prices.isna().any(axis=1)]"
   ]
  },
  {
   "cell_type": "markdown",
   "id": "0a6e3bcc",
   "metadata": {},
   "source": [
    "We can see that there is no missing data in this dataset. However, there are several ways that rows with missing data can be handled, and the following are some missing data scenarios and the actions I would choose to take in each of them. \n",
    "\n",
    "* <b>All values in the row are missing:</b> Drop the entire row. \n",
    "* <b>Most values in the row are missing:</b> Drop the entire row. \n",
    "* <b>Only one or two values in the row are missing:</b> Fill these values with the mean, median, or mode of the column(s), depending on what is most appropriate."
   ]
  },
  {
   "cell_type": "markdown",
   "id": "85954899",
   "metadata": {},
   "source": [
    "# Task 4: Analysis of Mean and Median Values\n",
    "In this task, you will analyze a dataset to understand the difference between mean and median values. Choose a dataset from the list of \"Repositories for Finding Suitable Datasets,\" located in Class Resources, where the mean and median values differ significantly. Write a Python script to calculate and visualize the mean and median values of the dataset. Interpret the results and provide insights into what the difference means for the dataset. Propose solutions to handle this discrepancy and implement them using Python.\n",
    "Compare and contrast the effectiveness of four different measures of central tendency and variability in capturing the characteristics of the data."
   ]
  },
  {
   "cell_type": "markdown",
   "id": "d11f5bad",
   "metadata": {},
   "source": [
    "<b>Dataset used:</b> https://www.kaggle.com/datasets/camnugent/california-housing-prices\n",
    "\n",
    "\"Median house prices for California districts derived from the 1990 census.\""
   ]
  },
  {
   "cell_type": "code",
   "execution_count": 191,
   "id": "2df58520",
   "metadata": {},
   "outputs": [
    {
     "data": {
      "text/html": [
       "<div>\n",
       "<style scoped>\n",
       "    .dataframe tbody tr th:only-of-type {\n",
       "        vertical-align: middle;\n",
       "    }\n",
       "\n",
       "    .dataframe tbody tr th {\n",
       "        vertical-align: top;\n",
       "    }\n",
       "\n",
       "    .dataframe thead th {\n",
       "        text-align: right;\n",
       "    }\n",
       "</style>\n",
       "<table border=\"1\" class=\"dataframe\">\n",
       "  <thead>\n",
       "    <tr style=\"text-align: right;\">\n",
       "      <th></th>\n",
       "      <th>longitude</th>\n",
       "      <th>latitude</th>\n",
       "      <th>housing_median_age</th>\n",
       "      <th>total_rooms</th>\n",
       "      <th>total_bedrooms</th>\n",
       "      <th>population</th>\n",
       "      <th>households</th>\n",
       "      <th>median_income</th>\n",
       "      <th>median_house_value</th>\n",
       "      <th>ocean_proximity</th>\n",
       "    </tr>\n",
       "  </thead>\n",
       "  <tbody>\n",
       "    <tr>\n",
       "      <th>0</th>\n",
       "      <td>-122.23</td>\n",
       "      <td>37.88</td>\n",
       "      <td>41.0</td>\n",
       "      <td>880.0</td>\n",
       "      <td>129.0</td>\n",
       "      <td>322.0</td>\n",
       "      <td>126.0</td>\n",
       "      <td>8.3252</td>\n",
       "      <td>452600.0</td>\n",
       "      <td>NEAR BAY</td>\n",
       "    </tr>\n",
       "    <tr>\n",
       "      <th>1</th>\n",
       "      <td>-122.22</td>\n",
       "      <td>37.86</td>\n",
       "      <td>21.0</td>\n",
       "      <td>7099.0</td>\n",
       "      <td>1106.0</td>\n",
       "      <td>2401.0</td>\n",
       "      <td>1138.0</td>\n",
       "      <td>8.3014</td>\n",
       "      <td>358500.0</td>\n",
       "      <td>NEAR BAY</td>\n",
       "    </tr>\n",
       "    <tr>\n",
       "      <th>2</th>\n",
       "      <td>-122.24</td>\n",
       "      <td>37.85</td>\n",
       "      <td>52.0</td>\n",
       "      <td>1467.0</td>\n",
       "      <td>190.0</td>\n",
       "      <td>496.0</td>\n",
       "      <td>177.0</td>\n",
       "      <td>7.2574</td>\n",
       "      <td>352100.0</td>\n",
       "      <td>NEAR BAY</td>\n",
       "    </tr>\n",
       "    <tr>\n",
       "      <th>3</th>\n",
       "      <td>-122.25</td>\n",
       "      <td>37.85</td>\n",
       "      <td>52.0</td>\n",
       "      <td>1274.0</td>\n",
       "      <td>235.0</td>\n",
       "      <td>558.0</td>\n",
       "      <td>219.0</td>\n",
       "      <td>5.6431</td>\n",
       "      <td>341300.0</td>\n",
       "      <td>NEAR BAY</td>\n",
       "    </tr>\n",
       "    <tr>\n",
       "      <th>4</th>\n",
       "      <td>-122.25</td>\n",
       "      <td>37.85</td>\n",
       "      <td>52.0</td>\n",
       "      <td>1627.0</td>\n",
       "      <td>280.0</td>\n",
       "      <td>565.0</td>\n",
       "      <td>259.0</td>\n",
       "      <td>3.8462</td>\n",
       "      <td>342200.0</td>\n",
       "      <td>NEAR BAY</td>\n",
       "    </tr>\n",
       "  </tbody>\n",
       "</table>\n",
       "</div>"
      ],
      "text/plain": [
       "   longitude  latitude  housing_median_age  total_rooms  total_bedrooms  \\\n",
       "0    -122.23     37.88                41.0        880.0           129.0   \n",
       "1    -122.22     37.86                21.0       7099.0          1106.0   \n",
       "2    -122.24     37.85                52.0       1467.0           190.0   \n",
       "3    -122.25     37.85                52.0       1274.0           235.0   \n",
       "4    -122.25     37.85                52.0       1627.0           280.0   \n",
       "\n",
       "   population  households  median_income  median_house_value ocean_proximity  \n",
       "0       322.0       126.0         8.3252            452600.0        NEAR BAY  \n",
       "1      2401.0      1138.0         8.3014            358500.0        NEAR BAY  \n",
       "2       496.0       177.0         7.2574            352100.0        NEAR BAY  \n",
       "3       558.0       219.0         5.6431            341300.0        NEAR BAY  \n",
       "4       565.0       259.0         3.8462            342200.0        NEAR BAY  "
      ]
     },
     "execution_count": 191,
     "metadata": {},
     "output_type": "execute_result"
    }
   ],
   "source": [
    "# Load the dataset\n",
    "housing_prices = pd.read_csv(\"California Housing Prices.csv\")\n",
    "housing_prices.head()"
   ]
  },
  {
   "cell_type": "code",
   "execution_count": 192,
   "id": "e1195ee8",
   "metadata": {},
   "outputs": [
    {
     "name": "stdout",
     "output_type": "stream",
     "text": [
      "Mean house value: $ 206855.82 , median house value: $ 179700.0\n"
     ]
    }
   ],
   "source": [
    "# Find mean and median house values\n",
    "mean_house_value = housing_prices[\"median_house_value\"].mean()\n",
    "median_house_value = housing_prices[\"median_house_value\"].median()\n",
    "print(\"Mean house value: $\", round(mean_house_value, 2), \", median house value: $\", round(median_house_value, 2))"
   ]
  },
  {
   "cell_type": "code",
   "execution_count": 193,
   "id": "4db4e111",
   "metadata": {},
   "outputs": [
    {
     "data": {
      "text/plain": [
       "<Axes: xlabel='median_house_value', ylabel='Count'>"
      ]
     },
     "execution_count": 193,
     "metadata": {},
     "output_type": "execute_result"
    },
    {
     "data": {
      "image/png": "[encoded data removed]",
      "text/plain": [
       "<Figure size 640x480 with 1 Axes>"
      ]
     },
     "metadata": {},
     "output_type": "display_data"
    }
   ],
   "source": [
    "# Generate histogram of house values\n",
    "sns.histplot(housing_prices[\"median_house_value\"])"
   ]
  },
  {
   "cell_type": "markdown",
   "id": "8ee435b2",
   "metadata": {},
   "source": [
    "The data exhibits a noticeable right skew, which is consistent with the fact that the median is lower than the mean. Most houses appear to be between <span>&#36;70,000</span> and <span>&#36;270,000</span> in price, with less and less being more expensive than that until about the <span>&#36;500,000</span> mark, where there are many houses listed. This seems to mean that most California houses in 1990 were catered toward the average middle-class family, with a significant minority targeted at the upper-middle and upper classes. "
   ]
  },
  {
   "cell_type": "code",
   "execution_count": 194,
   "id": "edc4d600",
   "metadata": {},
   "outputs": [
    {
     "data": {
      "text/plain": [
       "count     20640.000000\n",
       "mean     206855.816909\n",
       "std      115395.615874\n",
       "min       14999.000000\n",
       "25%      119600.000000\n",
       "50%      179700.000000\n",
       "75%      264725.000000\n",
       "max      500001.000000\n",
       "Name: median_house_value, dtype: float64"
      ]
     },
     "execution_count": 194,
     "metadata": {},
     "output_type": "execute_result"
    }
   ],
   "source": [
    "# View basic stats for housing prices\n",
    "housing_prices[\"median_house_value\"].describe()"
   ]
  },
  {
   "cell_type": "markdown",
   "id": "36c5e3c6",
   "metadata": {},
   "source": [
    "Finding and removing outliers is one common method for handling the discrepancy between mean and median in a dataset. This can be done easily using the interquartile range (IQR) method. "
   ]
  },
  {
   "cell_type": "code",
   "execution_count": 195,
   "id": "3df3be0b",
   "metadata": {},
   "outputs": [
    {
     "data": {
      "text/plain": [
       "(1071, 10)"
      ]
     },
     "execution_count": 195,
     "metadata": {},
     "output_type": "execute_result"
    }
   ],
   "source": [
    "# Find the IQR\n",
    "Q1 = housing_prices[\"median_house_value\"].quantile(0.25)\n",
    "Q3 = housing_prices[\"median_house_value\"].quantile(0.75)\n",
    "IQR = Q3 - Q1\n",
    "\n",
    "# Calculate lower and upper bounds\n",
    "lower_bound = Q1 - 1.5 * IQR\n",
    "upper_bound = Q3 + 1.5 * IQR\n",
    "\n",
    "# Find the number of outliers\n",
    "housing_outliers = housing_prices[(housing_prices[\"median_house_value\"] < lower_bound) | (housing_prices[\"median_house_value\"] > upper_bound)]\n",
    "housing_outliers.shape"
   ]
  },
  {
   "cell_type": "markdown",
   "id": "fd6c1113",
   "metadata": {},
   "source": [
    "There are 1,071 houses that are outliers in terms of price in this dataset, out of a total of 20,640 houses. Removing these would remove over 5% of our data, which would have a considerable impact on our measures of central tendency and variability. "
   ]
  },
  {
   "cell_type": "code",
   "execution_count": 196,
   "id": "80f6a95d",
   "metadata": {},
   "outputs": [
    {
     "data": {
      "text/plain": [
       "(19569, 10)"
      ]
     },
     "execution_count": 196,
     "metadata": {},
     "output_type": "execute_result"
    }
   ],
   "source": [
    "# View dataset without outliers present\n",
    "outliers_mask = (housing_prices[\"median_house_value\"] < lower_bound) | (housing_prices[\"median_house_value\"] > upper_bound)\n",
    "housing_prices_no_outliers = housing_prices[~outliers_mask]\n",
    "housing_prices_no_outliers.shape"
   ]
  },
  {
   "cell_type": "code",
   "execution_count": 197,
   "id": "36270cd8",
   "metadata": {},
   "outputs": [
    {
     "data": {
      "text/plain": [
       "count     20640.000000\n",
       "mean     206855.816909\n",
       "std      115395.615874\n",
       "min       14999.000000\n",
       "25%      119600.000000\n",
       "50%      179700.000000\n",
       "75%      264725.000000\n",
       "max      500001.000000\n",
       "Name: median_house_value, dtype: float64"
      ]
     },
     "execution_count": 197,
     "metadata": {},
     "output_type": "execute_result"
    }
   ],
   "source": [
    "# View stats about original dataset again\n",
    "housing_prices[\"median_house_value\"].describe()"
   ]
  },
  {
   "cell_type": "code",
   "execution_count": 198,
   "id": "19bddafb",
   "metadata": {},
   "outputs": [
    {
     "name": "stdout",
     "output_type": "stream",
     "text": [
      "Original median: 179700.0\n"
     ]
    }
   ],
   "source": [
    "print(\"Original median:\", housing_prices[\"median_house_value\"].median())"
   ]
  },
  {
   "cell_type": "code",
   "execution_count": 199,
   "id": "3323ac38",
   "metadata": {},
   "outputs": [
    {
     "data": {
      "text/plain": [
       "count     19569.000000\n",
       "mean     190852.301906\n",
       "std       95438.555669\n",
       "min       14999.000000\n",
       "25%      116200.000000\n",
       "50%      173200.000000\n",
       "75%      246700.000000\n",
       "max      482200.000000\n",
       "Name: median_house_value, dtype: float64"
      ]
     },
     "execution_count": 199,
     "metadata": {},
     "output_type": "execute_result"
    }
   ],
   "source": [
    "# View stats about dataset without outliers\n",
    "housing_prices_no_outliers[\"median_house_value\"].describe()"
   ]
  },
  {
   "cell_type": "code",
   "execution_count": 200,
   "id": "a56864ab",
   "metadata": {},
   "outputs": [
    {
     "name": "stdout",
     "output_type": "stream",
     "text": [
      "New median: 173200.0\n"
     ]
    }
   ],
   "source": [
    "print(\"New median:\", housing_prices_no_outliers[\"median_house_value\"].median())"
   ]
  },
  {
   "cell_type": "markdown",
   "id": "ee14db07",
   "metadata": {},
   "source": [
    "After removing outliers, the mean decreased considerably, and the median shifted slightly. Thus, removing outliers led to the data being more representative of a typical California house overall.  "
   ]
  },
  {
   "cell_type": "markdown",
   "id": "aa06793a",
   "metadata": {},
   "source": [
    "### Compare and contrast the effectiveness of four different measures of central tendency and variability in capturing the characteristics of the data.\n",
    "\n",
    "1. <b>Mean:</b> The mean is useful for determining where most data points are concentrated, since it is the arithmetic \"center\" of the data. It represents the price of the \"average\" house in California in 1990. \n",
    "2. <b>Median:</b> The median is useful for locating the \"center\" of a dataset when there are extreme outliers that lead to a mean unrepresentative of the overall dataset. It is the \"middle\" value, and is not affected by the values themselves, only by the number and position of those values. \n",
    "3. <b>Range:</b> The range of a dataset is the difference between the maximum and minimum value. It shows the window of values we are working with in a dataset, which can be helpful in deciding what to do during analysis. \n",
    "4. <b>Standard Deviation:</b> The standard deviation of a dataset measures how spread-out the values are from the mean. It is helpful for seeing whether values are clustered tightly, or spread out significantly. This helps in understanding the distribution for further analysis. "
   ]
  },
  {
   "cell_type": "markdown",
   "id": "0b0ba85e",
   "metadata": {},
   "source": [
    "# Task 5: Data Visualization\n",
    "In this task, you will use Python to create visualizations that effectively communicate data distribution. Choose a dataset from the list of \"Repositories for Finding Suitable Datasets,\" located in Class Resources, and create basic plots to visualize the data distribution (e.g., histogram, boxplot). Analyze the plots to gain insights into the data distribution and interpret the results."
   ]
  },
  {
   "cell_type": "markdown",
   "id": "70c9fa52",
   "metadata": {},
   "source": [
    "<b>Dataset used:</b> https://www.kaggle.com/datasets/raidevesh05/movie-ratings-dataset\n",
    "\n",
    "\"This Dataset has records of imdb ratings of movies released from 2000-2017\""
   ]
  },
  {
   "cell_type": "code",
   "execution_count": 201,
   "id": "1b9783b3",
   "metadata": {
    "scrolled": true
   },
   "outputs": [
    {
     "data": {
      "text/html": [
       "<div>\n",
       "<style scoped>\n",
       "    .dataframe tbody tr th:only-of-type {\n",
       "        vertical-align: middle;\n",
       "    }\n",
       "\n",
       "    .dataframe tbody tr th {\n",
       "        vertical-align: top;\n",
       "    }\n",
       "\n",
       "    .dataframe thead th {\n",
       "        text-align: right;\n",
       "    }\n",
       "</style>\n",
       "<table border=\"1\" class=\"dataframe\">\n",
       "  <thead>\n",
       "    <tr style=\"text-align: right;\">\n",
       "      <th></th>\n",
       "      <th>Unnamed: 0</th>\n",
       "      <th>movie</th>\n",
       "      <th>year</th>\n",
       "      <th>imdb</th>\n",
       "      <th>metascore</th>\n",
       "      <th>votes</th>\n",
       "    </tr>\n",
       "  </thead>\n",
       "  <tbody>\n",
       "    <tr>\n",
       "      <th>0</th>\n",
       "      <td>0</td>\n",
       "      <td>Gladiator</td>\n",
       "      <td>2000</td>\n",
       "      <td>8.5</td>\n",
       "      <td>67.0</td>\n",
       "      <td>1187559</td>\n",
       "    </tr>\n",
       "    <tr>\n",
       "      <th>1</th>\n",
       "      <td>1</td>\n",
       "      <td>Memento</td>\n",
       "      <td>2000</td>\n",
       "      <td>8.5</td>\n",
       "      <td>80.0</td>\n",
       "      <td>1014199</td>\n",
       "    </tr>\n",
       "    <tr>\n",
       "      <th>2</th>\n",
       "      <td>2</td>\n",
       "      <td>Snatch</td>\n",
       "      <td>2000</td>\n",
       "      <td>8.3</td>\n",
       "      <td>NaN</td>\n",
       "      <td>707162</td>\n",
       "    </tr>\n",
       "    <tr>\n",
       "      <th>3</th>\n",
       "      <td>3</td>\n",
       "      <td>Requiem for a Dream</td>\n",
       "      <td>2000</td>\n",
       "      <td>8.3</td>\n",
       "      <td>68.0</td>\n",
       "      <td>688394</td>\n",
       "    </tr>\n",
       "    <tr>\n",
       "      <th>4</th>\n",
       "      <td>4</td>\n",
       "      <td>X-Men</td>\n",
       "      <td>2000</td>\n",
       "      <td>7.4</td>\n",
       "      <td>64.0</td>\n",
       "      <td>526411</td>\n",
       "    </tr>\n",
       "  </tbody>\n",
       "</table>\n",
       "</div>"
      ],
      "text/plain": [
       "   Unnamed: 0                movie  year  imdb  metascore    votes\n",
       "0           0            Gladiator  2000   8.5       67.0  1187559\n",
       "1           1              Memento  2000   8.5       80.0  1014199\n",
       "2           2               Snatch  2000   8.3        NaN   707162\n",
       "3           3  Requiem for a Dream  2000   8.3       68.0   688394\n",
       "4           4                X-Men  2000   7.4       64.0   526411"
      ]
     },
     "execution_count": 201,
     "metadata": {},
     "output_type": "execute_result"
    }
   ],
   "source": [
    "# Read movies dataset\n",
    "movies_data = pd.read_csv(\"movie_ratings.csv\")\n",
    "movies_data.head()"
   ]
  },
  {
   "cell_type": "code",
   "execution_count": 202,
   "id": "b446def5",
   "metadata": {},
   "outputs": [
    {
     "data": {
      "text/plain": [
       "count    1800.000000\n",
       "mean        7.239444\n",
       "std         0.818280\n",
       "min         4.100000\n",
       "25%         6.700000\n",
       "50%         7.300000\n",
       "75%         7.800000\n",
       "max         9.900000\n",
       "Name: imdb, dtype: float64"
      ]
     },
     "execution_count": 202,
     "metadata": {},
     "output_type": "execute_result"
    }
   ],
   "source": [
    "# View basic stats about IMDB ratings\n",
    "movies_data[\"imdb\"].describe()"
   ]
  },
  {
   "cell_type": "code",
   "execution_count": 203,
   "id": "b1235e49",
   "metadata": {},
   "outputs": [
    {
     "data": {
      "text/plain": [
       "<Axes: xlabel='imdb', ylabel='Count'>"
      ]
     },
     "execution_count": 203,
     "metadata": {},
     "output_type": "execute_result"
    },
    {
     "data": {
      "image/png": "[encoded data removed]",
      "text/plain": [
       "<Figure size 640x480 with 1 Axes>"
      ]
     },
     "metadata": {},
     "output_type": "display_data"
    }
   ],
   "source": [
    "# View distribution of IMDB ratings\n",
    "sns.histplot(movies_data[\"imdb\"])"
   ]
  },
  {
   "cell_type": "markdown",
   "id": "dabd0094",
   "metadata": {},
   "source": [
    "The distribution of IMDB ratings approximately follows a normal distribution, with a very slight left skew toward the high end of ratings. "
   ]
  },
  {
   "cell_type": "code",
   "execution_count": 204,
   "id": "333ff047",
   "metadata": {},
   "outputs": [
    {
     "data": {
      "text/plain": [
       "<Axes: xlabel='imdb'>"
      ]
     },
     "execution_count": 204,
     "metadata": {},
     "output_type": "execute_result"
    },
    {
     "data": {
      "image/png": "[encoded data removed]",
      "text/plain": [
       "<Figure size 640x480 with 1 Axes>"
      ]
     },
     "metadata": {},
     "output_type": "display_data"
    }
   ],
   "source": [
    "# Create boxplot of IMDB ratings\n",
    "sns.boxplot(x=movies_data[\"imdb\"])"
   ]
  },
  {
   "cell_type": "markdown",
   "id": "7607081c",
   "metadata": {},
   "source": [
    "It appears there are 7 distinct IMDB scores that are outliers. Let's locate these and see which movies they are: "
   ]
  },
  {
   "cell_type": "code",
   "execution_count": 205,
   "id": "22667269",
   "metadata": {},
   "outputs": [
    {
     "data": {
      "text/html": [
       "<div>\n",
       "<style scoped>\n",
       "    .dataframe tbody tr th:only-of-type {\n",
       "        vertical-align: middle;\n",
       "    }\n",
       "\n",
       "    .dataframe tbody tr th {\n",
       "        vertical-align: top;\n",
       "    }\n",
       "\n",
       "    .dataframe thead th {\n",
       "        text-align: right;\n",
       "    }\n",
       "</style>\n",
       "<table border=\"1\" class=\"dataframe\">\n",
       "  <thead>\n",
       "    <tr style=\"text-align: right;\">\n",
       "      <th></th>\n",
       "      <th>Unnamed: 0</th>\n",
       "      <th>movie</th>\n",
       "      <th>year</th>\n",
       "      <th>imdb</th>\n",
       "      <th>metascore</th>\n",
       "      <th>votes</th>\n",
       "      <th>IMDB_Zscore</th>\n",
       "    </tr>\n",
       "  </thead>\n",
       "  <tbody>\n",
       "    <tr>\n",
       "      <th>925</th>\n",
       "      <td>925</td>\n",
       "      <td>The Twilight Saga: New Moon</td>\n",
       "      <td>2009</td>\n",
       "      <td>4.7</td>\n",
       "      <td>NaN</td>\n",
       "      <td>245496</td>\n",
       "      <td>-3.104254</td>\n",
       "    </tr>\n",
       "    <tr>\n",
       "      <th>975</th>\n",
       "      <td>975</td>\n",
       "      <td>The Twilight Saga: New Moon</td>\n",
       "      <td>2009</td>\n",
       "      <td>4.7</td>\n",
       "      <td>NaN</td>\n",
       "      <td>245496</td>\n",
       "      <td>-3.104254</td>\n",
       "    </tr>\n",
       "    <tr>\n",
       "      <th>1518</th>\n",
       "      <td>1518</td>\n",
       "      <td>Fifty Shades of Grey</td>\n",
       "      <td>2015</td>\n",
       "      <td>4.1</td>\n",
       "      <td>NaN</td>\n",
       "      <td>274536</td>\n",
       "      <td>-3.837703</td>\n",
       "    </tr>\n",
       "    <tr>\n",
       "      <th>1546</th>\n",
       "      <td>1546</td>\n",
       "      <td>Fantastic Four</td>\n",
       "      <td>2015</td>\n",
       "      <td>4.3</td>\n",
       "      <td>NaN</td>\n",
       "      <td>137778</td>\n",
       "      <td>-3.593220</td>\n",
       "    </tr>\n",
       "    <tr>\n",
       "      <th>1568</th>\n",
       "      <td>1568</td>\n",
       "      <td>Fifty Shades of Grey</td>\n",
       "      <td>2015</td>\n",
       "      <td>4.1</td>\n",
       "      <td>NaN</td>\n",
       "      <td>274536</td>\n",
       "      <td>-3.837703</td>\n",
       "    </tr>\n",
       "    <tr>\n",
       "      <th>1596</th>\n",
       "      <td>1596</td>\n",
       "      <td>Fantastic Four</td>\n",
       "      <td>2015</td>\n",
       "      <td>4.3</td>\n",
       "      <td>NaN</td>\n",
       "      <td>137778</td>\n",
       "      <td>-3.593220</td>\n",
       "    </tr>\n",
       "    <tr>\n",
       "      <th>1640</th>\n",
       "      <td>1640</td>\n",
       "      <td>Game of Thrones</td>\n",
       "      <td>2011</td>\n",
       "      <td>9.9</td>\n",
       "      <td>NaN</td>\n",
       "      <td>158728</td>\n",
       "      <td>3.252302</td>\n",
       "    </tr>\n",
       "    <tr>\n",
       "      <th>1690</th>\n",
       "      <td>1690</td>\n",
       "      <td>Game of Thrones</td>\n",
       "      <td>2011</td>\n",
       "      <td>9.9</td>\n",
       "      <td>NaN</td>\n",
       "      <td>158728</td>\n",
       "      <td>3.252302</td>\n",
       "    </tr>\n",
       "  </tbody>\n",
       "</table>\n",
       "</div>"
      ],
      "text/plain": [
       "      Unnamed: 0                        movie  year  imdb  metascore   votes  \\\n",
       "925          925  The Twilight Saga: New Moon  2009   4.7        NaN  245496   \n",
       "975          975  The Twilight Saga: New Moon  2009   4.7        NaN  245496   \n",
       "1518        1518         Fifty Shades of Grey  2015   4.1        NaN  274536   \n",
       "1546        1546               Fantastic Four  2015   4.3        NaN  137778   \n",
       "1568        1568         Fifty Shades of Grey  2015   4.1        NaN  274536   \n",
       "1596        1596               Fantastic Four  2015   4.3        NaN  137778   \n",
       "1640        1640              Game of Thrones  2011   9.9        NaN  158728   \n",
       "1690        1690              Game of Thrones  2011   9.9        NaN  158728   \n",
       "\n",
       "      IMDB_Zscore  \n",
       "925     -3.104254  \n",
       "975     -3.104254  \n",
       "1518    -3.837703  \n",
       "1546    -3.593220  \n",
       "1568    -3.837703  \n",
       "1596    -3.593220  \n",
       "1640     3.252302  \n",
       "1690     3.252302  "
      ]
     },
     "execution_count": 205,
     "metadata": {},
     "output_type": "execute_result"
    }
   ],
   "source": [
    "# Find outliers using Z-score\n",
    "movies_data[\"IMDB_Zscore\"] = zscore(movies_data[\"imdb\"])\n",
    "threshold = 3\n",
    "\n",
    "imdb_outliers = movies_data[(movies_data[\"IMDB_Zscore\"] > threshold) | (movies_data[\"IMDB_Zscore\"] < -threshold)]\n",
    "imdb_outliers"
   ]
  },
  {
   "cell_type": "markdown",
   "id": "7f632c6b",
   "metadata": {},
   "source": [
    "We find that The Twilight Saga: New Moon, Fifty Shades of Grey, and Fantastic Four had unusually low ratings, while Game of Thrones (unsurprisingly) dominated the IMDB ratings (this dataset is from 5 years ago, I doubt it's a 9.9 anymore after season 8 😂). "
   ]
  },
  {
   "cell_type": "markdown",
   "id": "6996117b",
   "metadata": {},
   "source": [
    "# Task 6: Measures of Central Tendency and Variability\n",
    "In this task, you will calculate and interpret measures of central tendency and variability using Python. Choose a dataset from the list of \"Repositories for Finding Suitable Datasets,\" located in Class Resources,  and write a Python script to calculate the mean, median, mode, range, variance, and standard deviation of the dataset. Interpret the results and discuss how the measures of central tendency and variability relate to the data distribution."
   ]
  },
  {
   "cell_type": "markdown",
   "id": "a851fd2e",
   "metadata": {},
   "source": [
    "<b>Dataset used:</b> https://www.kaggle.com/datasets/joebeachcapital/banana-index\n",
    "\n",
    "\"The Economist’s Banana index: Different way to measure climate impact of food\""
   ]
  },
  {
   "cell_type": "code",
   "execution_count": 206,
   "id": "07473fca",
   "metadata": {},
   "outputs": [
    {
     "data": {
      "text/html": [
       "<div>\n",
       "<style scoped>\n",
       "    .dataframe tbody tr th:only-of-type {\n",
       "        vertical-align: middle;\n",
       "    }\n",
       "\n",
       "    .dataframe tbody tr th {\n",
       "        vertical-align: top;\n",
       "    }\n",
       "\n",
       "    .dataframe thead th {\n",
       "        text-align: right;\n",
       "    }\n",
       "</style>\n",
       "<table border=\"1\" class=\"dataframe\">\n",
       "  <thead>\n",
       "    <tr style=\"text-align: right;\">\n",
       "      <th></th>\n",
       "      <th>entity</th>\n",
       "      <th>year</th>\n",
       "      <th>emissions_kg</th>\n",
       "      <th>emissions_1000kcal</th>\n",
       "      <th>emissions_100g_protein</th>\n",
       "      <th>emissions_100g_fat</th>\n",
       "      <th>land_use_kg</th>\n",
       "      <th>land_use_1000kcal</th>\n",
       "      <th>Land use per 100 grams of protein</th>\n",
       "      <th>Land use per 100 grams of fat</th>\n",
       "      <th>Bananas index (kg)</th>\n",
       "      <th>Bananas index (1000 kcalories)</th>\n",
       "      <th>Bananas index (100g protein)</th>\n",
       "      <th>Chart?</th>\n",
       "      <th>type</th>\n",
       "      <th>Banana values</th>\n",
       "      <th>Unnamed: 16</th>\n",
       "    </tr>\n",
       "  </thead>\n",
       "  <tbody>\n",
       "    <tr>\n",
       "      <th>0</th>\n",
       "      <td>Ale</td>\n",
       "      <td>2022</td>\n",
       "      <td>0.488690</td>\n",
       "      <td>0.317338</td>\n",
       "      <td>0.878525</td>\n",
       "      <td>2.424209</td>\n",
       "      <td>0.811485</td>\n",
       "      <td>0.601152</td>\n",
       "      <td>1.577687</td>\n",
       "      <td>3.065766</td>\n",
       "      <td>0.559558</td>\n",
       "      <td>0.362340</td>\n",
       "      <td>0.113771</td>\n",
       "      <td>True</td>\n",
       "      <td>1</td>\n",
       "      <td>Per KG</td>\n",
       "      <td>0.873350</td>\n",
       "    </tr>\n",
       "    <tr>\n",
       "      <th>1</th>\n",
       "      <td>Almond butter</td>\n",
       "      <td>2022</td>\n",
       "      <td>0.387011</td>\n",
       "      <td>0.067265</td>\n",
       "      <td>0.207599</td>\n",
       "      <td>0.079103</td>\n",
       "      <td>7.683045</td>\n",
       "      <td>1.296870</td>\n",
       "      <td>3.608433</td>\n",
       "      <td>1.495297</td>\n",
       "      <td>0.443134</td>\n",
       "      <td>0.076804</td>\n",
       "      <td>0.026885</td>\n",
       "      <td>True</td>\n",
       "      <td>1</td>\n",
       "      <td>Per 1000 kcalories</td>\n",
       "      <td>0.875803</td>\n",
       "    </tr>\n",
       "    <tr>\n",
       "      <th>2</th>\n",
       "      <td>Almond milk</td>\n",
       "      <td>2022</td>\n",
       "      <td>0.655888</td>\n",
       "      <td>2.222230</td>\n",
       "      <td>13.595512</td>\n",
       "      <td>4.057470</td>\n",
       "      <td>1.370106</td>\n",
       "      <td>2.675063</td>\n",
       "      <td>12.687839</td>\n",
       "      <td>4.600530</td>\n",
       "      <td>0.751002</td>\n",
       "      <td>2.537364</td>\n",
       "      <td>1.760651</td>\n",
       "      <td>True</td>\n",
       "      <td>1</td>\n",
       "      <td>Per 100g protein</td>\n",
       "      <td>7.721869</td>\n",
       "    </tr>\n",
       "    <tr>\n",
       "      <th>3</th>\n",
       "      <td>Almonds</td>\n",
       "      <td>2022</td>\n",
       "      <td>0.602368</td>\n",
       "      <td>0.105029</td>\n",
       "      <td>0.328335</td>\n",
       "      <td>0.119361</td>\n",
       "      <td>8.230927</td>\n",
       "      <td>1.423376</td>\n",
       "      <td>4.261040</td>\n",
       "      <td>1.610136</td>\n",
       "      <td>0.689721</td>\n",
       "      <td>0.119923</td>\n",
       "      <td>0.042520</td>\n",
       "      <td>True</td>\n",
       "      <td>1</td>\n",
       "      <td>NaN</td>\n",
       "      <td>NaN</td>\n",
       "    </tr>\n",
       "    <tr>\n",
       "      <th>4</th>\n",
       "      <td>Apple juice</td>\n",
       "      <td>2022</td>\n",
       "      <td>0.458378</td>\n",
       "      <td>0.955184</td>\n",
       "      <td>29.152212</td>\n",
       "      <td>19.754980</td>\n",
       "      <td>0.660629</td>\n",
       "      <td>1.382839</td>\n",
       "      <td>43.232158</td>\n",
       "      <td>26.246743</td>\n",
       "      <td>0.524851</td>\n",
       "      <td>1.090638</td>\n",
       "      <td>3.775280</td>\n",
       "      <td>True</td>\n",
       "      <td>1</td>\n",
       "      <td>NaN</td>\n",
       "      <td>NaN</td>\n",
       "    </tr>\n",
       "  </tbody>\n",
       "</table>\n",
       "</div>"
      ],
      "text/plain": [
       "          entity  year  emissions_kg  emissions_1000kcal  \\\n",
       "0            Ale  2022      0.488690            0.317338   \n",
       "1  Almond butter  2022      0.387011            0.067265   \n",
       "2    Almond milk  2022      0.655888            2.222230   \n",
       "3        Almonds  2022      0.602368            0.105029   \n",
       "4    Apple juice  2022      0.458378            0.955184   \n",
       "\n",
       "   emissions_100g_protein  emissions_100g_fat  land_use_kg  land_use_1000kcal  \\\n",
       "0                0.878525            2.424209     0.811485           0.601152   \n",
       "1                0.207599            0.079103     7.683045           1.296870   \n",
       "2               13.595512            4.057470     1.370106           2.675063   \n",
       "3                0.328335            0.119361     8.230927           1.423376   \n",
       "4               29.152212           19.754980     0.660629           1.382839   \n",
       "\n",
       "   Land use per 100 grams of protein  Land use per 100 grams of fat  \\\n",
       "0                           1.577687                       3.065766   \n",
       "1                           3.608433                       1.495297   \n",
       "2                          12.687839                       4.600530   \n",
       "3                           4.261040                       1.610136   \n",
       "4                          43.232158                      26.246743   \n",
       "\n",
       "   Bananas index (kg)  Bananas index (1000 kcalories)  \\\n",
       "0            0.559558                        0.362340   \n",
       "1            0.443134                        0.076804   \n",
       "2            0.751002                        2.537364   \n",
       "3            0.689721                        0.119923   \n",
       "4            0.524851                        1.090638   \n",
       "\n",
       "   Bananas index (100g protein)  Chart?  type       Banana values  Unnamed: 16  \n",
       "0                      0.113771    True     1              Per KG     0.873350  \n",
       "1                      0.026885    True     1  Per 1000 kcalories     0.875803  \n",
       "2                      1.760651    True     1    Per 100g protein     7.721869  \n",
       "3                      0.042520    True     1                 NaN          NaN  \n",
       "4                      3.775280    True     1                 NaN          NaN  "
      ]
     },
     "execution_count": 206,
     "metadata": {},
     "output_type": "execute_result"
    }
   ],
   "source": [
    "# Load the dataset\n",
    "banana_index = pd.read_csv(\"bananaindex.csv\")\n",
    "banana_index.head()"
   ]
  },
  {
   "cell_type": "markdown",
   "id": "bf5e6310",
   "metadata": {},
   "source": [
    "We will be focusing on the column `emissions_kg` in this dataset, which represents how many kilograms of CO2-equivalent emissions are generated to produce one unit of that item. We calculate its mean, median, mode, range, variance, and standard deviation: "
   ]
  },
  {
   "cell_type": "code",
   "execution_count": 207,
   "id": "768d2b27",
   "metadata": {},
   "outputs": [
    {
     "name": "stdout",
     "output_type": "stream",
     "text": [
      "Mean: 6.936927809687499 | median: 2.0449556749999998 | mode: 0.20727616\n",
      "Range: 129.54043884 | variance: 230.50185198889235 | stdev: 15.182287442572425\n"
     ]
    }
   ],
   "source": [
    "# Calculate measures of central tendency and variability \n",
    "mean = banana_index[\"emissions_kg\"].mean()\n",
    "median = banana_index[\"emissions_kg\"].median()\n",
    "mode = banana_index[\"emissions_kg\"].mode().iloc[0]\n",
    "range = banana_index[\"emissions_kg\"].max() - banana_index[\"emissions_kg\"].min()\n",
    "variance = banana_index[\"emissions_kg\"].var()\n",
    "stdev = banana_index[\"emissions_kg\"].std()\n",
    "\n",
    "print(\"Mean:\", mean, \"| median:\", median, \"| mode:\", mode)\n",
    "print(\"Range:\", range, \"| variance:\", variance, \"| stdev:\", stdev)"
   ]
  },
  {
   "cell_type": "code",
   "execution_count": 208,
   "id": "7828a931",
   "metadata": {},
   "outputs": [
    {
     "data": {
      "text/plain": [
       "<Axes: xlabel='emissions_kg', ylabel='Count'>"
      ]
     },
     "execution_count": 208,
     "metadata": {},
     "output_type": "execute_result"
    },
    {
     "data": {
      "image/png": "[encoded data removed]",
      "text/plain": [
       "<Figure size 640x480 with 1 Axes>"
      ]
     },
     "metadata": {},
     "output_type": "display_data"
    }
   ],
   "source": [
    "# Plot the distribution of emissions_kg\n",
    "sns.histplot(banana_index[\"emissions_kg\"], color=\"yellow\")"
   ]
  },
  {
   "cell_type": "code",
   "execution_count": 209,
   "id": "4f53f164",
   "metadata": {},
   "outputs": [
    {
     "data": {
      "text/html": [
       "<div>\n",
       "<style scoped>\n",
       "    .dataframe tbody tr th:only-of-type {\n",
       "        vertical-align: middle;\n",
       "    }\n",
       "\n",
       "    .dataframe tbody tr th {\n",
       "        vertical-align: top;\n",
       "    }\n",
       "\n",
       "    .dataframe thead th {\n",
       "        text-align: right;\n",
       "    }\n",
       "</style>\n",
       "<table border=\"1\" class=\"dataframe\">\n",
       "  <thead>\n",
       "    <tr style=\"text-align: right;\">\n",
       "      <th></th>\n",
       "      <th>entity</th>\n",
       "      <th>year</th>\n",
       "      <th>emissions_kg</th>\n",
       "      <th>emissions_1000kcal</th>\n",
       "      <th>emissions_100g_protein</th>\n",
       "      <th>emissions_100g_fat</th>\n",
       "      <th>land_use_kg</th>\n",
       "      <th>land_use_1000kcal</th>\n",
       "      <th>Land use per 100 grams of protein</th>\n",
       "      <th>Land use per 100 grams of fat</th>\n",
       "      <th>Bananas index (kg)</th>\n",
       "      <th>Bananas index (1000 kcalories)</th>\n",
       "      <th>Bananas index (100g protein)</th>\n",
       "      <th>Chart?</th>\n",
       "      <th>type</th>\n",
       "      <th>Banana values</th>\n",
       "      <th>Unnamed: 16</th>\n",
       "    </tr>\n",
       "  </thead>\n",
       "  <tbody>\n",
       "    <tr>\n",
       "      <th>18</th>\n",
       "      <td>Beef steak</td>\n",
       "      <td>2022</td>\n",
       "      <td>129.747715</td>\n",
       "      <td>68.095953</td>\n",
       "      <td>64.190391</td>\n",
       "      <td>146.10787</td>\n",
       "      <td>427.331126</td>\n",
       "      <td>223.690135</td>\n",
       "      <td>211.381205</td>\n",
       "      <td>478.803717</td>\n",
       "      <td>148.563324</td>\n",
       "      <td>77.752629</td>\n",
       "      <td>8.312805</td>\n",
       "      <td>True</td>\n",
       "      <td>2</td>\n",
       "      <td>NaN</td>\n",
       "      <td>NaN</td>\n",
       "    </tr>\n",
       "  </tbody>\n",
       "</table>\n",
       "</div>"
      ],
      "text/plain": [
       "        entity  year  emissions_kg  emissions_1000kcal  \\\n",
       "18  Beef steak  2022    129.747715           68.095953   \n",
       "\n",
       "    emissions_100g_protein  emissions_100g_fat  land_use_kg  \\\n",
       "18               64.190391           146.10787   427.331126   \n",
       "\n",
       "    land_use_1000kcal  Land use per 100 grams of protein  \\\n",
       "18         223.690135                         211.381205   \n",
       "\n",
       "    Land use per 100 grams of fat  Bananas index (kg)  \\\n",
       "18                     478.803717          148.563324   \n",
       "\n",
       "    Bananas index (1000 kcalories)  Bananas index (100g protein)  Chart?  \\\n",
       "18                       77.752629                      8.312805    True   \n",
       "\n",
       "    type Banana values  Unnamed: 16  \n",
       "18     2           NaN          NaN  "
      ]
     },
     "execution_count": 209,
     "metadata": {},
     "output_type": "execute_result"
    }
   ],
   "source": [
    "# Find food items that produce less than 5 kg of CO2-equivalent per unit\n",
    "#banana_index[banana_index[\"emissions_kg\"] < 5]\n",
    "\n",
    "# Find most and least-emitting food item\n",
    "banana_index.sort_values(by=\"emissions_kg\", ascending=False).head(1)"
   ]
  },
  {
   "cell_type": "markdown",
   "id": "5be75477",
   "metadata": {},
   "source": [
    "### Interpretations of measures of central tendency and variability\n",
    "\n",
    "* <b>Mean:</b> The mean is relatively low at ~6.94, since most food items are clustered in the 0-30 kg of CO2-equivalent per unit range. However, it is dragged up by the small number of very large outliers, as well as the right tail on the main part of the distribution. \n",
    "* <b>Median:</b> The median is even lower at ~2.04, given that values are highly clustered on the left side of the plot. This distribution is an excellent example of where the median can be immensely useful over the mean for representing a typical value. \n",
    "* <b>Mode:</b> The mode is ~0.2, which is easy to see when looking at the very tall bar close to 0 on the plot. This means that the most common emission rate is very low at approximately 0.2 kg of CO2-equivalent per unit produced. This represents plant-based items, like ale, almond milk, and watermelon. \n",
    "* <b>Range:</b> The range is ~129.5, meaning that there is approximately a 129.5 kg of CO2-equivalent difference between the most-emitting and least-emitting food item.\n",
    "* <b>Variance:</b> The variance is ~230.5, indicating a high amount of spread in the distribution. \n",
    "* <b>Standard Deviation:</b> The standard deviation is ~15.2, which is approximately the square root of the variance. This indicates the same thing as the variance, that the data is highly spread out. "
   ]
  },
  {
   "cell_type": "markdown",
   "id": "d54a8b0a",
   "metadata": {},
   "source": [
    "# Task 7: Data Cleaning\n",
    "In this task, you will use Python to clean a dataset and prepare it for analysis. Choose a messy dataset (e.g., missing values, inconsistent formatting) from the list of \"Repositories for Finding Suitable Datasets,\" located in Class Resources, and write a Python script to clean the dataset. Use appropriate methods to handle missing values, remove duplicates, and convert data types. Visualize the cleaned dataset to demonstrate the impact of the cleaning process."
   ]
  },
  {
   "cell_type": "markdown",
   "id": "15c864bc",
   "metadata": {},
   "source": [
    "<b>Dataset used:</b> https://www.kaggle.com/datasets/ehtishamsadiq/uncleaned-laptop-price-dataset\n",
    "\n",
    "\"Understanding the Structure and Content of an Unprocessed Laptop Price Dataset\""
   ]
  },
  {
   "cell_type": "code",
   "execution_count": 210,
   "id": "3361ae48",
   "metadata": {},
   "outputs": [
    {
     "data": {
      "text/html": [
       "<div>\n",
       "<style scoped>\n",
       "    .dataframe tbody tr th:only-of-type {\n",
       "        vertical-align: middle;\n",
       "    }\n",
       "\n",
       "    .dataframe tbody tr th {\n",
       "        vertical-align: top;\n",
       "    }\n",
       "\n",
       "    .dataframe thead th {\n",
       "        text-align: right;\n",
       "    }\n",
       "</style>\n",
       "<table border=\"1\" class=\"dataframe\">\n",
       "  <thead>\n",
       "    <tr style=\"text-align: right;\">\n",
       "      <th></th>\n",
       "      <th>Unnamed: 0</th>\n",
       "      <th>Company</th>\n",
       "      <th>TypeName</th>\n",
       "      <th>Inches</th>\n",
       "      <th>ScreenResolution</th>\n",
       "      <th>Cpu</th>\n",
       "      <th>Ram</th>\n",
       "      <th>Memory</th>\n",
       "      <th>Gpu</th>\n",
       "      <th>OpSys</th>\n",
       "      <th>Weight</th>\n",
       "      <th>Price</th>\n",
       "    </tr>\n",
       "  </thead>\n",
       "  <tbody>\n",
       "    <tr>\n",
       "      <th>0</th>\n",
       "      <td>0.0</td>\n",
       "      <td>Apple</td>\n",
       "      <td>Ultrabook</td>\n",
       "      <td>13.3</td>\n",
       "      <td>IPS Panel Retina Display 2560x1600</td>\n",
       "      <td>Intel Core i5 2.3GHz</td>\n",
       "      <td>8GB</td>\n",
       "      <td>128GB SSD</td>\n",
       "      <td>Intel Iris Plus Graphics 640</td>\n",
       "      <td>macOS</td>\n",
       "      <td>1.37kg</td>\n",
       "      <td>71378.6832</td>\n",
       "    </tr>\n",
       "    <tr>\n",
       "      <th>1</th>\n",
       "      <td>1.0</td>\n",
       "      <td>Apple</td>\n",
       "      <td>Ultrabook</td>\n",
       "      <td>13.3</td>\n",
       "      <td>1440x900</td>\n",
       "      <td>Intel Core i5 1.8GHz</td>\n",
       "      <td>8GB</td>\n",
       "      <td>128GB Flash Storage</td>\n",
       "      <td>Intel HD Graphics 6000</td>\n",
       "      <td>macOS</td>\n",
       "      <td>1.34kg</td>\n",
       "      <td>47895.5232</td>\n",
       "    </tr>\n",
       "    <tr>\n",
       "      <th>2</th>\n",
       "      <td>2.0</td>\n",
       "      <td>HP</td>\n",
       "      <td>Notebook</td>\n",
       "      <td>15.6</td>\n",
       "      <td>Full HD 1920x1080</td>\n",
       "      <td>Intel Core i5 7200U 2.5GHz</td>\n",
       "      <td>8GB</td>\n",
       "      <td>256GB SSD</td>\n",
       "      <td>Intel HD Graphics 620</td>\n",
       "      <td>No OS</td>\n",
       "      <td>1.86kg</td>\n",
       "      <td>30636.0000</td>\n",
       "    </tr>\n",
       "    <tr>\n",
       "      <th>3</th>\n",
       "      <td>3.0</td>\n",
       "      <td>Apple</td>\n",
       "      <td>Ultrabook</td>\n",
       "      <td>15.4</td>\n",
       "      <td>IPS Panel Retina Display 2880x1800</td>\n",
       "      <td>Intel Core i7 2.7GHz</td>\n",
       "      <td>16GB</td>\n",
       "      <td>512GB SSD</td>\n",
       "      <td>AMD Radeon Pro 455</td>\n",
       "      <td>macOS</td>\n",
       "      <td>1.83kg</td>\n",
       "      <td>135195.3360</td>\n",
       "    </tr>\n",
       "    <tr>\n",
       "      <th>4</th>\n",
       "      <td>4.0</td>\n",
       "      <td>Apple</td>\n",
       "      <td>Ultrabook</td>\n",
       "      <td>13.3</td>\n",
       "      <td>IPS Panel Retina Display 2560x1600</td>\n",
       "      <td>Intel Core i5 3.1GHz</td>\n",
       "      <td>8GB</td>\n",
       "      <td>256GB SSD</td>\n",
       "      <td>Intel Iris Plus Graphics 650</td>\n",
       "      <td>macOS</td>\n",
       "      <td>1.37kg</td>\n",
       "      <td>96095.8080</td>\n",
       "    </tr>\n",
       "  </tbody>\n",
       "</table>\n",
       "</div>"
      ],
      "text/plain": [
       "   Unnamed: 0 Company   TypeName Inches                    ScreenResolution  \\\n",
       "0         0.0   Apple  Ultrabook   13.3  IPS Panel Retina Display 2560x1600   \n",
       "1         1.0   Apple  Ultrabook   13.3                            1440x900   \n",
       "2         2.0      HP   Notebook   15.6                   Full HD 1920x1080   \n",
       "3         3.0   Apple  Ultrabook   15.4  IPS Panel Retina Display 2880x1800   \n",
       "4         4.0   Apple  Ultrabook   13.3  IPS Panel Retina Display 2560x1600   \n",
       "\n",
       "                          Cpu   Ram               Memory  \\\n",
       "0        Intel Core i5 2.3GHz   8GB            128GB SSD   \n",
       "1        Intel Core i5 1.8GHz   8GB  128GB Flash Storage   \n",
       "2  Intel Core i5 7200U 2.5GHz   8GB            256GB SSD   \n",
       "3        Intel Core i7 2.7GHz  16GB            512GB SSD   \n",
       "4        Intel Core i5 3.1GHz   8GB            256GB SSD   \n",
       "\n",
       "                            Gpu  OpSys  Weight        Price  \n",
       "0  Intel Iris Plus Graphics 640  macOS  1.37kg   71378.6832  \n",
       "1        Intel HD Graphics 6000  macOS  1.34kg   47895.5232  \n",
       "2         Intel HD Graphics 620  No OS  1.86kg   30636.0000  \n",
       "3            AMD Radeon Pro 455  macOS  1.83kg  135195.3360  \n",
       "4  Intel Iris Plus Graphics 650  macOS  1.37kg   96095.8080  "
      ]
     },
     "execution_count": 210,
     "metadata": {},
     "output_type": "execute_result"
    }
   ],
   "source": [
    "# Load the dataset\n",
    "laptop_data = pd.read_csv(\"laptopData.csv\")\n",
    "laptop_data.head()"
   ]
  },
  {
   "cell_type": "code",
   "execution_count": 211,
   "id": "8c31021a",
   "metadata": {},
   "outputs": [],
   "source": [
    "# Remove missing and duplicate rows\n",
    "laptop_data = laptop_data.dropna()\n",
    "laptop_data = laptop_data.drop_duplicates()"
   ]
  },
  {
   "cell_type": "code",
   "execution_count": 212,
   "id": "5809d19b",
   "metadata": {},
   "outputs": [
    {
     "data": {
      "text/html": [
       "<div>\n",
       "<style scoped>\n",
       "    .dataframe tbody tr th:only-of-type {\n",
       "        vertical-align: middle;\n",
       "    }\n",
       "\n",
       "    .dataframe tbody tr th {\n",
       "        vertical-align: top;\n",
       "    }\n",
       "\n",
       "    .dataframe thead th {\n",
       "        text-align: right;\n",
       "    }\n",
       "</style>\n",
       "<table border=\"1\" class=\"dataframe\">\n",
       "  <thead>\n",
       "    <tr style=\"text-align: right;\">\n",
       "      <th></th>\n",
       "      <th>Unnamed: 0</th>\n",
       "      <th>Company</th>\n",
       "      <th>TypeName</th>\n",
       "      <th>Inches</th>\n",
       "      <th>ScreenResolution</th>\n",
       "      <th>Cpu</th>\n",
       "      <th>Ram</th>\n",
       "      <th>Memory</th>\n",
       "      <th>Gpu</th>\n",
       "      <th>OpSys</th>\n",
       "      <th>Weight</th>\n",
       "      <th>Price</th>\n",
       "    </tr>\n",
       "  </thead>\n",
       "  <tbody>\n",
       "  </tbody>\n",
       "</table>\n",
       "</div>"
      ],
      "text/plain": [
       "Empty DataFrame\n",
       "Columns: [Unnamed: 0, Company, TypeName, Inches, ScreenResolution, Cpu, Ram, Memory, Gpu, OpSys, Weight, Price]\n",
       "Index: []"
      ]
     },
     "execution_count": 212,
     "metadata": {},
     "output_type": "execute_result"
    }
   ],
   "source": [
    "# Fill missing values\n",
    "laptop_data[laptop_data.isna().any(axis=1)]"
   ]
  },
  {
   "cell_type": "markdown",
   "id": "4db906a4",
   "metadata": {},
   "source": [
    "There are no rows with missing values remaining in the dataset. "
   ]
  },
  {
   "cell_type": "code",
   "execution_count": 213,
   "id": "6b16271e",
   "metadata": {},
   "outputs": [
    {
     "data": {
      "text/html": [
       "<div>\n",
       "<style scoped>\n",
       "    .dataframe tbody tr th:only-of-type {\n",
       "        vertical-align: middle;\n",
       "    }\n",
       "\n",
       "    .dataframe tbody tr th {\n",
       "        vertical-align: top;\n",
       "    }\n",
       "\n",
       "    .dataframe thead th {\n",
       "        text-align: right;\n",
       "    }\n",
       "</style>\n",
       "<table border=\"1\" class=\"dataframe\">\n",
       "  <thead>\n",
       "    <tr style=\"text-align: right;\">\n",
       "      <th></th>\n",
       "      <th>Company</th>\n",
       "      <th>TypeName</th>\n",
       "      <th>Inches</th>\n",
       "      <th>ScreenResolution</th>\n",
       "      <th>Cpu</th>\n",
       "      <th>Ram</th>\n",
       "      <th>Memory</th>\n",
       "      <th>Gpu</th>\n",
       "      <th>OpSys</th>\n",
       "      <th>Weight</th>\n",
       "      <th>Price</th>\n",
       "    </tr>\n",
       "  </thead>\n",
       "  <tbody>\n",
       "    <tr>\n",
       "      <th>0</th>\n",
       "      <td>Apple</td>\n",
       "      <td>Ultrabook</td>\n",
       "      <td>13.3</td>\n",
       "      <td>IPS Panel Retina Display 2560x1600</td>\n",
       "      <td>Intel Core i5 2.3GHz</td>\n",
       "      <td>8GB</td>\n",
       "      <td>128GB SSD</td>\n",
       "      <td>Intel Iris Plus Graphics 640</td>\n",
       "      <td>macOS</td>\n",
       "      <td>1.37kg</td>\n",
       "      <td>71378.6832</td>\n",
       "    </tr>\n",
       "  </tbody>\n",
       "</table>\n",
       "</div>"
      ],
      "text/plain": [
       "  Company   TypeName Inches                    ScreenResolution  \\\n",
       "0   Apple  Ultrabook   13.3  IPS Panel Retina Display 2560x1600   \n",
       "\n",
       "                    Cpu  Ram     Memory                           Gpu  OpSys  \\\n",
       "0  Intel Core i5 2.3GHz  8GB  128GB SSD  Intel Iris Plus Graphics 640  macOS   \n",
       "\n",
       "   Weight       Price  \n",
       "0  1.37kg  71378.6832  "
      ]
     },
     "execution_count": 213,
     "metadata": {},
     "output_type": "execute_result"
    }
   ],
   "source": [
    "# Drop redundant first column\n",
    "laptop_data = laptop_data.drop(laptop_data.columns[0], axis=1)\n",
    "laptop_data.head(1)"
   ]
  },
  {
   "cell_type": "code",
   "execution_count": 214,
   "id": "90c7715c",
   "metadata": {},
   "outputs": [
    {
     "data": {
      "text/html": [
       "<div>\n",
       "<style scoped>\n",
       "    .dataframe tbody tr th:only-of-type {\n",
       "        vertical-align: middle;\n",
       "    }\n",
       "\n",
       "    .dataframe tbody tr th {\n",
       "        vertical-align: top;\n",
       "    }\n",
       "\n",
       "    .dataframe thead th {\n",
       "        text-align: right;\n",
       "    }\n",
       "</style>\n",
       "<table border=\"1\" class=\"dataframe\">\n",
       "  <thead>\n",
       "    <tr style=\"text-align: right;\">\n",
       "      <th></th>\n",
       "      <th>Company</th>\n",
       "      <th>Type</th>\n",
       "      <th>Inches</th>\n",
       "      <th>ScreenResolution</th>\n",
       "      <th>CPU</th>\n",
       "      <th>RAM</th>\n",
       "      <th>Storage</th>\n",
       "      <th>GPU</th>\n",
       "      <th>OS</th>\n",
       "      <th>Weight</th>\n",
       "      <th>Price</th>\n",
       "    </tr>\n",
       "  </thead>\n",
       "  <tbody>\n",
       "    <tr>\n",
       "      <th>0</th>\n",
       "      <td>Apple</td>\n",
       "      <td>Ultrabook</td>\n",
       "      <td>13.3</td>\n",
       "      <td>IPS Panel Retina Display 2560x1600</td>\n",
       "      <td>Intel Core i5 2.3GHz</td>\n",
       "      <td>8GB</td>\n",
       "      <td>128GB SSD</td>\n",
       "      <td>Intel Iris Plus Graphics 640</td>\n",
       "      <td>macOS</td>\n",
       "      <td>1.37kg</td>\n",
       "      <td>71378.6832</td>\n",
       "    </tr>\n",
       "  </tbody>\n",
       "</table>\n",
       "</div>"
      ],
      "text/plain": [
       "  Company       Type Inches                    ScreenResolution  \\\n",
       "0   Apple  Ultrabook   13.3  IPS Panel Retina Display 2560x1600   \n",
       "\n",
       "                    CPU  RAM    Storage                           GPU     OS  \\\n",
       "0  Intel Core i5 2.3GHz  8GB  128GB SSD  Intel Iris Plus Graphics 640  macOS   \n",
       "\n",
       "   Weight       Price  \n",
       "0  1.37kg  71378.6832  "
      ]
     },
     "execution_count": 214,
     "metadata": {},
     "output_type": "execute_result"
    }
   ],
   "source": [
    "# Rename columns\n",
    "new_column_names = {\"TypeName\": \"Type\", \"Cpu\": \"CPU\", \"Ram\": \"RAM\", \"Memory\": \"Storage\", \"Gpu\": \"GPU\", \"OpSys\": \"OS\"}\n",
    "laptop_data.rename(columns=new_column_names, inplace=True)\n",
    "laptop_data.head(1)"
   ]
  },
  {
   "cell_type": "code",
   "execution_count": 215,
   "id": "5c19f0a5",
   "metadata": {},
   "outputs": [],
   "source": [
    "# Fix data types\n",
    "\n",
    "# Change \"Inches\" to float and fill missing values with the mean\n",
    "laptop_data[\"Inches\"] = pd.to_numeric(laptop_data[\"Inches\"].replace(\"?\", pd.NaT), errors=\"coerce\")\n",
    "laptop_data[\"Inches\"] = laptop_data[\"Inches\"].fillna(laptop_data[\"Inches\"].mean())"
   ]
  },
  {
   "cell_type": "code",
   "execution_count": 216,
   "id": "2e095705",
   "metadata": {},
   "outputs": [
    {
     "data": {
      "text/html": [
       "<div>\n",
       "<style scoped>\n",
       "    .dataframe tbody tr th:only-of-type {\n",
       "        vertical-align: middle;\n",
       "    }\n",
       "\n",
       "    .dataframe tbody tr th {\n",
       "        vertical-align: top;\n",
       "    }\n",
       "\n",
       "    .dataframe thead th {\n",
       "        text-align: right;\n",
       "    }\n",
       "</style>\n",
       "<table border=\"1\" class=\"dataframe\">\n",
       "  <thead>\n",
       "    <tr style=\"text-align: right;\">\n",
       "      <th></th>\n",
       "      <th>Company</th>\n",
       "      <th>Type</th>\n",
       "      <th>Inches</th>\n",
       "      <th>ScreenResolution</th>\n",
       "      <th>CPU</th>\n",
       "      <th>RAM</th>\n",
       "      <th>Storage</th>\n",
       "      <th>GPU</th>\n",
       "      <th>OS</th>\n",
       "      <th>Weight</th>\n",
       "      <th>Price (USD)</th>\n",
       "    </tr>\n",
       "  </thead>\n",
       "  <tbody>\n",
       "    <tr>\n",
       "      <th>0</th>\n",
       "      <td>Apple</td>\n",
       "      <td>Ultrabook</td>\n",
       "      <td>13.3</td>\n",
       "      <td>IPS Panel Retina Display 2560x1600</td>\n",
       "      <td>Intel Core i5 2.3GHz</td>\n",
       "      <td>8GB</td>\n",
       "      <td>128GB SSD</td>\n",
       "      <td>Intel Iris Plus Graphics 640</td>\n",
       "      <td>macOS</td>\n",
       "      <td>1.37kg</td>\n",
       "      <td>856.47568</td>\n",
       "    </tr>\n",
       "  </tbody>\n",
       "</table>\n",
       "</div>"
      ],
      "text/plain": [
       "  Company       Type  Inches                    ScreenResolution  \\\n",
       "0   Apple  Ultrabook    13.3  IPS Panel Retina Display 2560x1600   \n",
       "\n",
       "                    CPU  RAM    Storage                           GPU     OS  \\\n",
       "0  Intel Core i5 2.3GHz  8GB  128GB SSD  Intel Iris Plus Graphics 640  macOS   \n",
       "\n",
       "   Weight  Price (USD)  \n",
       "0  1.37kg    856.47568  "
      ]
     },
     "execution_count": 216,
     "metadata": {},
     "output_type": "execute_result"
    }
   ],
   "source": [
    "# Convert \"Price\" from Indian rupees to USD\n",
    "# Current exchange rate: 83.34 rupees per 1 US dollar\n",
    "laptop_data[\"Price\"] = laptop_data[\"Price\"] / 83.34\n",
    "\n",
    "# Rename column to reflect the change\n",
    "laptop_data = laptop_data.rename(columns={\"Price\": \"Price (USD)\"})\n",
    "laptop_data.head(1)"
   ]
  },
  {
   "cell_type": "code",
   "execution_count": 217,
   "id": "49c6ed23",
   "metadata": {},
   "outputs": [
    {
     "data": {
      "text/html": [
       "<div>\n",
       "<style scoped>\n",
       "    .dataframe tbody tr th:only-of-type {\n",
       "        vertical-align: middle;\n",
       "    }\n",
       "\n",
       "    .dataframe tbody tr th {\n",
       "        vertical-align: top;\n",
       "    }\n",
       "\n",
       "    .dataframe thead th {\n",
       "        text-align: right;\n",
       "    }\n",
       "</style>\n",
       "<table border=\"1\" class=\"dataframe\">\n",
       "  <thead>\n",
       "    <tr style=\"text-align: right;\">\n",
       "      <th>Inches</th>\n",
       "      <th>35.600000</th>\n",
       "      <th>33.500000</th>\n",
       "      <th>31.600000</th>\n",
       "      <th>27.300000</th>\n",
       "      <th>25.600000</th>\n",
       "      <th>24.000000</th>\n",
       "      <th>18.400000</th>\n",
       "      <th>17.300000</th>\n",
       "      <th>17.000000</th>\n",
       "      <th>15.600000</th>\n",
       "      <th>15.400000</th>\n",
       "      <th>15.130818</th>\n",
       "      <th>15.000000</th>\n",
       "      <th>14.100000</th>\n",
       "      <th>14.000000</th>\n",
       "      <th>13.900000</th>\n",
       "      <th>13.500000</th>\n",
       "      <th>13.300000</th>\n",
       "      <th>13.000000</th>\n",
       "      <th>12.500000</th>\n",
       "      <th>12.300000</th>\n",
       "      <th>12.000000</th>\n",
       "      <th>11.600000</th>\n",
       "      <th>11.300000</th>\n",
       "      <th>10.100000</th>\n",
       "    </tr>\n",
       "  </thead>\n",
       "  <tbody>\n",
       "    <tr>\n",
       "      <th>count</th>\n",
       "      <td>3</td>\n",
       "      <td>1</td>\n",
       "      <td>1</td>\n",
       "      <td>1</td>\n",
       "      <td>1</td>\n",
       "      <td>2</td>\n",
       "      <td>1</td>\n",
       "      <td>162</td>\n",
       "      <td>1</td>\n",
       "      <td>640</td>\n",
       "      <td>4</td>\n",
       "      <td>1</td>\n",
       "      <td>4</td>\n",
       "      <td>1</td>\n",
       "      <td>192</td>\n",
       "      <td>6</td>\n",
       "      <td>5</td>\n",
       "      <td>161</td>\n",
       "      <td>2</td>\n",
       "      <td>38</td>\n",
       "      <td>5</td>\n",
       "      <td>6</td>\n",
       "      <td>31</td>\n",
       "      <td>1</td>\n",
       "      <td>3</td>\n",
       "    </tr>\n",
       "  </tbody>\n",
       "</table>\n",
       "</div>"
      ],
      "text/plain": [
       "Inches  35.600000  33.500000  31.600000  27.300000  25.600000  24.000000  \\\n",
       "count           3          1          1          1          1          2   \n",
       "\n",
       "Inches  18.400000  17.300000  17.000000  15.600000  15.400000  15.130818  \\\n",
       "count           1        162          1        640          4          1   \n",
       "\n",
       "Inches  15.000000  14.100000  14.000000  13.900000  13.500000  13.300000  \\\n",
       "count           4          1        192          6          5        161   \n",
       "\n",
       "Inches  13.000000  12.500000  12.300000  12.000000  11.600000  11.300000  \\\n",
       "count           2         38          5          6         31          1   \n",
       "\n",
       "Inches  10.100000  \n",
       "count           3  "
      ]
     },
     "execution_count": 217,
     "metadata": {},
     "output_type": "execute_result"
    }
   ],
   "source": [
    "# Deal with outliers in the \"Inches\" column\n",
    "\n",
    "# Show distribution of screen sizes\n",
    "laptop_data[\"Inches\"].value_counts().to_frame().sort_values(by=\"Inches\", ascending=False).transpose()"
   ]
  },
  {
   "cell_type": "code",
   "execution_count": 218,
   "id": "2bcf8407",
   "metadata": {},
   "outputs": [],
   "source": [
    "# Remove laptops with over 18.4 inch screens, since the largest commercially available screen is \n",
    "# on the Acer Predator 21 X at 21 inches according to background research I conducted\n",
    "laptop_data = laptop_data[laptop_data[\"Inches\"] < 18.4]"
   ]
  },
  {
   "cell_type": "code",
   "execution_count": 219,
   "id": "a1594a3f",
   "metadata": {},
   "outputs": [
    {
     "data": {
      "text/html": [
       "<div>\n",
       "<style scoped>\n",
       "    .dataframe tbody tr th:only-of-type {\n",
       "        vertical-align: middle;\n",
       "    }\n",
       "\n",
       "    .dataframe tbody tr th {\n",
       "        vertical-align: top;\n",
       "    }\n",
       "\n",
       "    .dataframe thead th {\n",
       "        text-align: right;\n",
       "    }\n",
       "</style>\n",
       "<table border=\"1\" class=\"dataframe\">\n",
       "  <thead>\n",
       "    <tr style=\"text-align: right;\">\n",
       "      <th></th>\n",
       "      <th>Company</th>\n",
       "      <th>Type</th>\n",
       "      <th>Inches</th>\n",
       "      <th>ScreenResolution</th>\n",
       "      <th>CPU</th>\n",
       "      <th>RAM</th>\n",
       "      <th>Storage</th>\n",
       "      <th>GPU</th>\n",
       "      <th>OS</th>\n",
       "      <th>Weight</th>\n",
       "      <th>Price (USD)</th>\n",
       "    </tr>\n",
       "  </thead>\n",
       "  <tbody>\n",
       "    <tr>\n",
       "      <th>0</th>\n",
       "      <td>Apple</td>\n",
       "      <td>Ultrabook</td>\n",
       "      <td>13.3</td>\n",
       "      <td>IPS Panel Retina Display 2560x1600</td>\n",
       "      <td>Intel Core i5 2.3GHz</td>\n",
       "      <td>8GB</td>\n",
       "      <td>128GB SSD</td>\n",
       "      <td>Intel Iris Plus Graphics 640</td>\n",
       "      <td>macOS</td>\n",
       "      <td>1.37kg</td>\n",
       "      <td>856.475680</td>\n",
       "    </tr>\n",
       "    <tr>\n",
       "      <th>1</th>\n",
       "      <td>Apple</td>\n",
       "      <td>Ultrabook</td>\n",
       "      <td>13.3</td>\n",
       "      <td>1440x900</td>\n",
       "      <td>Intel Core i5 1.8GHz</td>\n",
       "      <td>8GB</td>\n",
       "      <td>128GB Flash Storage</td>\n",
       "      <td>Intel HD Graphics 6000</td>\n",
       "      <td>macOS</td>\n",
       "      <td>1.34kg</td>\n",
       "      <td>574.700302</td>\n",
       "    </tr>\n",
       "    <tr>\n",
       "      <th>2</th>\n",
       "      <td>HP</td>\n",
       "      <td>Notebook</td>\n",
       "      <td>15.6</td>\n",
       "      <td>Full HD 1920x1080</td>\n",
       "      <td>Intel Core i5 7200U 2.5GHz</td>\n",
       "      <td>8GB</td>\n",
       "      <td>256GB SSD</td>\n",
       "      <td>Intel HD Graphics 620</td>\n",
       "      <td>No OS</td>\n",
       "      <td>1.86kg</td>\n",
       "      <td>367.602592</td>\n",
       "    </tr>\n",
       "    <tr>\n",
       "      <th>3</th>\n",
       "      <td>Apple</td>\n",
       "      <td>Ultrabook</td>\n",
       "      <td>15.4</td>\n",
       "      <td>IPS Panel Retina Display 2880x1800</td>\n",
       "      <td>Intel Core i7 2.7GHz</td>\n",
       "      <td>16GB</td>\n",
       "      <td>512GB SSD</td>\n",
       "      <td>AMD Radeon Pro 455</td>\n",
       "      <td>macOS</td>\n",
       "      <td>1.83kg</td>\n",
       "      <td>1622.214255</td>\n",
       "    </tr>\n",
       "    <tr>\n",
       "      <th>4</th>\n",
       "      <td>Apple</td>\n",
       "      <td>Ultrabook</td>\n",
       "      <td>13.3</td>\n",
       "      <td>IPS Panel Retina Display 2560x1600</td>\n",
       "      <td>Intel Core i5 3.1GHz</td>\n",
       "      <td>8GB</td>\n",
       "      <td>256GB SSD</td>\n",
       "      <td>Intel Iris Plus Graphics 650</td>\n",
       "      <td>macOS</td>\n",
       "      <td>1.37kg</td>\n",
       "      <td>1153.057451</td>\n",
       "    </tr>\n",
       "  </tbody>\n",
       "</table>\n",
       "</div>"
      ],
      "text/plain": [
       "  Company       Type  Inches                    ScreenResolution  \\\n",
       "0   Apple  Ultrabook    13.3  IPS Panel Retina Display 2560x1600   \n",
       "1   Apple  Ultrabook    13.3                            1440x900   \n",
       "2      HP   Notebook    15.6                   Full HD 1920x1080   \n",
       "3   Apple  Ultrabook    15.4  IPS Panel Retina Display 2880x1800   \n",
       "4   Apple  Ultrabook    13.3  IPS Panel Retina Display 2560x1600   \n",
       "\n",
       "                          CPU   RAM              Storage  \\\n",
       "0        Intel Core i5 2.3GHz   8GB            128GB SSD   \n",
       "1        Intel Core i5 1.8GHz   8GB  128GB Flash Storage   \n",
       "2  Intel Core i5 7200U 2.5GHz   8GB            256GB SSD   \n",
       "3        Intel Core i7 2.7GHz  16GB            512GB SSD   \n",
       "4        Intel Core i5 3.1GHz   8GB            256GB SSD   \n",
       "\n",
       "                            GPU     OS  Weight  Price (USD)  \n",
       "0  Intel Iris Plus Graphics 640  macOS  1.37kg   856.475680  \n",
       "1        Intel HD Graphics 6000  macOS  1.34kg   574.700302  \n",
       "2         Intel HD Graphics 620  No OS  1.86kg   367.602592  \n",
       "3            AMD Radeon Pro 455  macOS  1.83kg  1622.214255  \n",
       "4  Intel Iris Plus Graphics 650  macOS  1.37kg  1153.057451  "
      ]
     },
     "execution_count": 219,
     "metadata": {},
     "output_type": "execute_result"
    }
   ],
   "source": [
    "# Visualize the final result\n",
    "laptop_data.head()"
   ]
  },
  {
   "cell_type": "markdown",
   "id": "59bdbf5c",
   "metadata": {},
   "source": [
    "# Task 8: Group Analysis\n",
    "In this task, you will use Python to conduct group analysis on a dataset. Choose a dataset from the list of \"Repositories for Finding Suitable Datasets,\" located in Class Resources, and write a Python script to group the data by a categorical variable (e.g., gender, age group). Calculate measures of central tendency and variability for each group and visualize the results using appropriate plots. Interpret the results and discuss any differences between the groups."
   ]
  },
  {
   "cell_type": "markdown",
   "id": "8d7c6184",
   "metadata": {},
   "source": [
    "<b>Dataset used:</b> https://www.kaggle.com/datasets/neuromusic/avocado-prices\n",
    "\n",
    "\"Historical data on avocado prices and sales volume in multiple US markets\""
   ]
  },
  {
   "cell_type": "code",
   "execution_count": 220,
   "id": "9de7e646",
   "metadata": {},
   "outputs": [
    {
     "data": {
      "text/html": [
       "<div>\n",
       "<style scoped>\n",
       "    .dataframe tbody tr th:only-of-type {\n",
       "        vertical-align: middle;\n",
       "    }\n",
       "\n",
       "    .dataframe tbody tr th {\n",
       "        vertical-align: top;\n",
       "    }\n",
       "\n",
       "    .dataframe thead th {\n",
       "        text-align: right;\n",
       "    }\n",
       "</style>\n",
       "<table border=\"1\" class=\"dataframe\">\n",
       "  <thead>\n",
       "    <tr style=\"text-align: right;\">\n",
       "      <th></th>\n",
       "      <th>Unnamed: 0</th>\n",
       "      <th>Date</th>\n",
       "      <th>AveragePrice</th>\n",
       "      <th>Total Volume</th>\n",
       "      <th>4046</th>\n",
       "      <th>4225</th>\n",
       "      <th>4770</th>\n",
       "      <th>Total Bags</th>\n",
       "      <th>Small Bags</th>\n",
       "      <th>Large Bags</th>\n",
       "      <th>XLarge Bags</th>\n",
       "      <th>type</th>\n",
       "      <th>year</th>\n",
       "      <th>region</th>\n",
       "    </tr>\n",
       "  </thead>\n",
       "  <tbody>\n",
       "    <tr>\n",
       "      <th>0</th>\n",
       "      <td>0</td>\n",
       "      <td>2015-12-27</td>\n",
       "      <td>1.33</td>\n",
       "      <td>64236.62</td>\n",
       "      <td>1036.74</td>\n",
       "      <td>54454.85</td>\n",
       "      <td>48.16</td>\n",
       "      <td>8696.87</td>\n",
       "      <td>8603.62</td>\n",
       "      <td>93.25</td>\n",
       "      <td>0.0</td>\n",
       "      <td>conventional</td>\n",
       "      <td>2015</td>\n",
       "      <td>Albany</td>\n",
       "    </tr>\n",
       "    <tr>\n",
       "      <th>1</th>\n",
       "      <td>1</td>\n",
       "      <td>2015-12-20</td>\n",
       "      <td>1.35</td>\n",
       "      <td>54876.98</td>\n",
       "      <td>674.28</td>\n",
       "      <td>44638.81</td>\n",
       "      <td>58.33</td>\n",
       "      <td>9505.56</td>\n",
       "      <td>9408.07</td>\n",
       "      <td>97.49</td>\n",
       "      <td>0.0</td>\n",
       "      <td>conventional</td>\n",
       "      <td>2015</td>\n",
       "      <td>Albany</td>\n",
       "    </tr>\n",
       "    <tr>\n",
       "      <th>2</th>\n",
       "      <td>2</td>\n",
       "      <td>2015-12-13</td>\n",
       "      <td>0.93</td>\n",
       "      <td>118220.22</td>\n",
       "      <td>794.70</td>\n",
       "      <td>109149.67</td>\n",
       "      <td>130.50</td>\n",
       "      <td>8145.35</td>\n",
       "      <td>8042.21</td>\n",
       "      <td>103.14</td>\n",
       "      <td>0.0</td>\n",
       "      <td>conventional</td>\n",
       "      <td>2015</td>\n",
       "      <td>Albany</td>\n",
       "    </tr>\n",
       "    <tr>\n",
       "      <th>3</th>\n",
       "      <td>3</td>\n",
       "      <td>2015-12-06</td>\n",
       "      <td>1.08</td>\n",
       "      <td>78992.15</td>\n",
       "      <td>1132.00</td>\n",
       "      <td>71976.41</td>\n",
       "      <td>72.58</td>\n",
       "      <td>5811.16</td>\n",
       "      <td>5677.40</td>\n",
       "      <td>133.76</td>\n",
       "      <td>0.0</td>\n",
       "      <td>conventional</td>\n",
       "      <td>2015</td>\n",
       "      <td>Albany</td>\n",
       "    </tr>\n",
       "    <tr>\n",
       "      <th>4</th>\n",
       "      <td>4</td>\n",
       "      <td>2015-11-29</td>\n",
       "      <td>1.28</td>\n",
       "      <td>51039.60</td>\n",
       "      <td>941.48</td>\n",
       "      <td>43838.39</td>\n",
       "      <td>75.78</td>\n",
       "      <td>6183.95</td>\n",
       "      <td>5986.26</td>\n",
       "      <td>197.69</td>\n",
       "      <td>0.0</td>\n",
       "      <td>conventional</td>\n",
       "      <td>2015</td>\n",
       "      <td>Albany</td>\n",
       "    </tr>\n",
       "  </tbody>\n",
       "</table>\n",
       "</div>"
      ],
      "text/plain": [
       "   Unnamed: 0        Date  AveragePrice  Total Volume     4046       4225  \\\n",
       "0           0  2015-12-27          1.33      64236.62  1036.74   54454.85   \n",
       "1           1  2015-12-20          1.35      54876.98   674.28   44638.81   \n",
       "2           2  2015-12-13          0.93     118220.22   794.70  109149.67   \n",
       "3           3  2015-12-06          1.08      78992.15  1132.00   71976.41   \n",
       "4           4  2015-11-29          1.28      51039.60   941.48   43838.39   \n",
       "\n",
       "     4770  Total Bags  Small Bags  Large Bags  XLarge Bags          type  \\\n",
       "0   48.16     8696.87     8603.62       93.25          0.0  conventional   \n",
       "1   58.33     9505.56     9408.07       97.49          0.0  conventional   \n",
       "2  130.50     8145.35     8042.21      103.14          0.0  conventional   \n",
       "3   72.58     5811.16     5677.40      133.76          0.0  conventional   \n",
       "4   75.78     6183.95     5986.26      197.69          0.0  conventional   \n",
       "\n",
       "   year  region  \n",
       "0  2015  Albany  \n",
       "1  2015  Albany  \n",
       "2  2015  Albany  \n",
       "3  2015  Albany  \n",
       "4  2015  Albany  "
      ]
     },
     "execution_count": 220,
     "metadata": {},
     "output_type": "execute_result"
    }
   ],
   "source": [
    "# Load the dataset\n",
    "avocado_data = pd.read_csv(\"avocado.csv\")\n",
    "avocado_data.head()"
   ]
  },
  {
   "cell_type": "code",
   "execution_count": 221,
   "id": "a306bd75",
   "metadata": {},
   "outputs": [
    {
     "data": {
      "text/plain": [
       "type\n",
       "conventional    9126\n",
       "organic         9123\n",
       "Name: count, dtype: int64"
      ]
     },
     "execution_count": 221,
     "metadata": {},
     "output_type": "execute_result"
    }
   ],
   "source": [
    "avocado_data[\"type\"].value_counts()"
   ]
  },
  {
   "cell_type": "code",
   "execution_count": 222,
   "id": "aa5f4850",
   "metadata": {},
   "outputs": [],
   "source": [
    "# Group avocados sales into conventional and organic\n",
    "conventional_avocados = avocado_data[avocado_data[\"type\"] == \"conventional\"]\n",
    "organic_avocados = avocado_data[avocado_data[\"type\"] == \"organic\"]"
   ]
  },
  {
   "cell_type": "markdown",
   "id": "87d8906a",
   "metadata": {},
   "source": [
    "Let's look at the `AveragePrice` and `Total Volume` columns and see what we can find. "
   ]
  },
  {
   "cell_type": "markdown",
   "id": "5ba5af72",
   "metadata": {},
   "source": [
    "### Analyzing conventional avocados"
   ]
  },
  {
   "cell_type": "code",
   "execution_count": 223,
   "id": "ff9371f4",
   "metadata": {},
   "outputs": [
    {
     "data": {
      "text/plain": [
       "count    9126.000000\n",
       "mean        1.158040\n",
       "std         0.263041\n",
       "min         0.460000\n",
       "25%         0.980000\n",
       "50%         1.130000\n",
       "75%         1.320000\n",
       "max         2.220000\n",
       "Name: AveragePrice, dtype: float64"
      ]
     },
     "execution_count": 223,
     "metadata": {},
     "output_type": "execute_result"
    }
   ],
   "source": [
    "# Compute measures of central tendency and variability for price of conventional avocados \n",
    "conventional_avocados[\"AveragePrice\"].describe()"
   ]
  },
  {
   "cell_type": "code",
   "execution_count": 224,
   "id": "58cfdd5a",
   "metadata": {},
   "outputs": [
    {
     "data": {
      "text/plain": [
       "1.13"
      ]
     },
     "execution_count": 224,
     "metadata": {},
     "output_type": "execute_result"
    }
   ],
   "source": [
    "# Compute median\n",
    "conventional_avocados[\"AveragePrice\"].median()"
   ]
  },
  {
   "cell_type": "code",
   "execution_count": 225,
   "id": "9a6907dd",
   "metadata": {
    "scrolled": false
   },
   "outputs": [
    {
     "data": {
      "text/plain": [
       "<Axes: xlabel='AveragePrice', ylabel='Count'>"
      ]
     },
     "execution_count": 225,
     "metadata": {},
     "output_type": "execute_result"
    },
    {
     "data": {
      "image/png": "[encoded data removed]",
      "text/plain": [
       "<Figure size 640x480 with 1 Axes>"
      ]
     },
     "metadata": {},
     "output_type": "display_data"
    }
   ],
   "source": [
    "# Create histogram for price \n",
    "sns.histplot(conventional_avocados[\"AveragePrice\"])"
   ]
  },
  {
   "cell_type": "markdown",
   "id": "33b175c0",
   "metadata": {},
   "source": [
    "The mean and median are almost the same, suggesting a roughly normal distribution, and the histogram plot confirms this. "
   ]
  },
  {
   "cell_type": "code",
   "execution_count": 226,
   "id": "bb59e423",
   "metadata": {},
   "outputs": [
    {
     "data": {
      "text/plain": [
       "count    9.126000e+03\n",
       "mean     1.653213e+06\n",
       "std      4.747892e+06\n",
       "min      3.369968e+04\n",
       "25%      1.989086e+05\n",
       "50%      4.083255e+05\n",
       "75%      1.030992e+06\n",
       "max      6.250565e+07\n",
       "Name: Total Volume, dtype: float64"
      ]
     },
     "execution_count": 226,
     "metadata": {},
     "output_type": "execute_result"
    }
   ],
   "source": [
    "# Compute measures of central tendency and variability for total volume of conventional avocados \n",
    "conventional_avocados[\"Total Volume\"].describe()"
   ]
  },
  {
   "cell_type": "markdown",
   "id": "056f735e",
   "metadata": {},
   "source": [
    "### Analyzing organic avocados"
   ]
  },
  {
   "cell_type": "code",
   "execution_count": 227,
   "id": "1db43e98",
   "metadata": {
    "scrolled": true
   },
   "outputs": [
    {
     "data": {
      "text/plain": [
       "count    9123.000000\n",
       "mean        1.653999\n",
       "std         0.363502\n",
       "min         0.440000\n",
       "25%         1.420000\n",
       "50%         1.630000\n",
       "75%         1.870000\n",
       "max         3.250000\n",
       "Name: AveragePrice, dtype: float64"
      ]
     },
     "execution_count": 227,
     "metadata": {},
     "output_type": "execute_result"
    }
   ],
   "source": [
    "# Compute measures of central tendency and variability for price of organic avocados \n",
    "organic_avocados[\"AveragePrice\"].describe()"
   ]
  },
  {
   "cell_type": "markdown",
   "id": "3c29d082",
   "metadata": {},
   "source": [
    "As expected, the organic avocados are significantly more expensive on average than the conventional ones (<span>&dollar;0.50</span> more on average). "
   ]
  },
  {
   "cell_type": "code",
   "execution_count": 228,
   "id": "fc95a381",
   "metadata": {},
   "outputs": [
    {
     "data": {
      "text/plain": [
       "1.63"
      ]
     },
     "execution_count": 228,
     "metadata": {},
     "output_type": "execute_result"
    }
   ],
   "source": [
    "# Compute median\n",
    "organic_avocados[\"AveragePrice\"].median()"
   ]
  },
  {
   "cell_type": "code",
   "execution_count": 229,
   "id": "1e09b041",
   "metadata": {},
   "outputs": [
    {
     "data": {
      "text/plain": [
       "<Axes: xlabel='AveragePrice', ylabel='Count'>"
      ]
     },
     "execution_count": 229,
     "metadata": {},
     "output_type": "execute_result"
    },
    {
     "data": {
      "image/png": "[encoded data removed]",
      "text/plain": [
       "<Figure size 640x480 with 1 Axes>"
      ]
     },
     "metadata": {},
     "output_type": "display_data"
    }
   ],
   "source": [
    "# Create histogram for price \n",
    "sns.histplot(organic_avocados[\"AveragePrice\"])"
   ]
  },
  {
   "cell_type": "markdown",
   "id": "153a6de2",
   "metadata": {},
   "source": [
    "The only major difference between the average price distributions of conventional and organic avocados is in the location of the bell curve on the x-axis (the mean). There is also slightly higher variance in prices for organic avocados. "
   ]
  },
  {
   "cell_type": "code",
   "execution_count": 230,
   "id": "25e821b4",
   "metadata": {},
   "outputs": [
    {
     "data": {
      "text/plain": [
       "count    9.123000e+03\n",
       "mean     4.781121e+04\n",
       "std      1.424069e+05\n",
       "min      8.456000e+01\n",
       "25%      4.779910e+03\n",
       "50%      1.083576e+04\n",
       "75%      3.008704e+04\n",
       "max      1.814930e+06\n",
       "Name: Total Volume, dtype: float64"
      ]
     },
     "execution_count": 230,
     "metadata": {},
     "output_type": "execute_result"
    }
   ],
   "source": [
    "# Compute measures of central tendency and variability for total volume of organic avocados \n",
    "organic_avocados[\"Total Volume\"].describe()"
   ]
  }
 ],
 "metadata": {
  "kernelspec": {
   "display_name": "Python 3 (ipykernel)",
   "language": "python",
   "name": "python3"
  },
  "language_info": {
   "codemirror_mode": {
    "name": "ipython",
    "version": 3
   },
   "file_extension": ".py",
   "mimetype": "text/x-python",
   "name": "python",
   "nbconvert_exporter": "python",
   "pygments_lexer": "ipython3",
   "version": "3.11.5"
  }
 },
 "nbformat": 4,
 "nbformat_minor": 5
}
